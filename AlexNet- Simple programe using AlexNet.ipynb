{
 "cells": [
  {
   "cell_type": "code",
   "execution_count": 3,
   "metadata": {},
   "outputs": [],
   "source": [
    "import tensorflow as tf\n",
    "from keras_preprocessing.image import ImageDataGenerator"
   ]
  },
  {
   "cell_type": "code",
   "execution_count": 4,
   "metadata": {},
   "outputs": [
    {
     "name": "stdout",
     "output_type": "stream",
     "text": [
      "Found 2637 images belonging to 2 classes.\n",
      "Found 660 images belonging to 2 classes.\n"
     ]
    }
   ],
   "source": [
    "train_datagen = ImageDataGenerator(rescale = 1./255,\n",
    "                                   shear_range = 0.2,\n",
    "                                   zoom_range = 0.2,\n",
    "                                   horizontal_flip = True)\n",
    "training_set = train_datagen.flow_from_directory('data/train',\n",
    "                                            target_size = (224, 224),\n",
    "                                            batch_size = 32,\n",
    "                                            class_mode = 'categorical')\n",
    "val_datagen = ImageDataGenerator(rescale = 1./255)\n",
    "val_set = val_datagen.flow_from_directory('data/test',\n",
    "                                            target_size = (224, 224),\n",
    "                                            batch_size = 32,\n",
    "                                            class_mode = 'categorical')"
   ]
  },
  {
   "cell_type": "code",
   "execution_count": 5,
   "metadata": {},
   "outputs": [],
   "source": [
    "model = tf.keras.models.Sequential()\n",
    "model.add(tf.keras.layers.Conv2D(filters = 96, input_shape = (224, 224, 3), \n",
    "            kernel_size = (11, 11), strides = (4, 4), \n",
    "            padding = 'valid'))\n",
    "model.add(tf.keras.layers.Activation('relu'))\n",
    "# Max-Pooling \n",
    "model.add(tf.keras.layers.MaxPooling2D(pool_size = (2, 2),\n",
    "            strides = (2, 2), padding = 'valid'))\n",
    "# Batch Normalisation\n",
    "model.add(tf.keras.layers.BatchNormalization())\n",
    "  \n",
    "# 2nd Convolutional Layer\n",
    "model.add(tf.keras.layers.Conv2D(filters = 256, kernel_size = (11, 11), \n",
    "            strides = (1, 1), padding = 'valid'))\n",
    "model.add(tf.keras.layers.Activation('relu'))\n",
    "# Max-Pooling\n",
    "model.add(tf.keras.layers.MaxPooling2D(pool_size = (2, 2), strides = (2, 2), \n",
    "            padding = 'valid'))\n",
    "# Batch Normalisation\n",
    "model.add(tf.keras.layers.BatchNormalization())\n",
    "  \n",
    "# 3rd Convolutional Layer\n",
    "model.add(tf.keras.layers.Conv2D(filters = 384, kernel_size = (3, 3), \n",
    "            strides = (1, 1), padding = 'valid'))\n",
    "model.add(tf.keras.layers.Activation('relu'))\n",
    "# Batch Normalisation\n",
    "model.add(tf.keras.layers.BatchNormalization())\n",
    "  \n",
    "# 4th Convolutional Layer\n",
    "model.add(tf.keras.layers.Conv2D(filters = 384, kernel_size = (3, 3), \n",
    "            strides = (1, 1), padding = 'valid'))\n",
    "model.add(tf.keras.layers.Activation('relu'))\n",
    "# Batch Normalisation\n",
    "model.add(tf.keras.layers.BatchNormalization())\n",
    "  \n",
    "# 5th Convolutional Layer\n",
    "model.add(tf.keras.layers.Conv2D(filters = 256, kernel_size = (3, 3), \n",
    "            strides = (1, 1), padding = 'valid'))\n",
    "model.add(tf.keras.layers.Activation('relu'))\n",
    "# Max-Pooling\n",
    "model.add(tf.keras.layers.MaxPooling2D(pool_size = (2, 2), strides = (2, 2), \n",
    "            padding = 'valid'))\n",
    "# Batch Normalisation\n",
    "model.add(tf.keras.layers.BatchNormalization())\n",
    "  \n",
    "# Flattening\n",
    "model.add(tf.keras.layers.Flatten())\n",
    "  \n",
    "# 1st Dense Layer\n",
    "model.add(tf.keras.layers.Dense(4096, input_shape = (224*224*3, )))\n",
    "model.add(tf.keras.layers.Activation('relu'))\n",
    "# Add Dropout to prevent overfitting\n",
    "model.add(tf.keras.layers.Dropout(0.4))\n",
    "# Batch Normalisation\n",
    "model.add(tf.keras.layers.BatchNormalization())\n",
    "  \n",
    "# 2nd Dense Layer\n",
    "model.add(tf.keras.layers.Dense(4096))\n",
    "model.add(tf.keras.layers.Activation('relu'))\n",
    "# Add Dropout\n",
    "model.add(tf.keras.layers.Dropout(0.4))\n",
    "# Batch Normalisation\n",
    "model.add(tf.keras.layers.BatchNormalization())\n",
    "  \n",
    "# Output Softmax Layer\n",
    "model.add(tf.keras.layers.Dense(2))\n",
    "model.add(tf.keras.layers.Activation('softmax'))"
   ]
  },
  {
   "cell_type": "code",
   "execution_count": 6,
   "metadata": {},
   "outputs": [],
   "source": [
    "model.compile(optimizer = 'adam', loss = 'categorical_crossentropy', metrics = ['accuracy'])"
   ]
  },
  {
   "cell_type": "code",
   "execution_count": null,
   "metadata": {},
   "outputs": [
    {
     "name": "stdout",
     "output_type": "stream",
     "text": [
      "Epoch 1/10\n",
      "      9/Unknown - 49s 5s/step - loss: 4.0473 - accuracy: 0.5833"
     ]
    }
   ],
   "source": [
    "model.fit(x = training_set, validation_data = val_set,batch_size=32, epochs = 10)"
   ]
  },
  {
   "cell_type": "code",
   "execution_count": null,
   "metadata": {},
   "outputs": [],
   "source": [
    "import numpy as np\n",
    "import matplotlib.pyplot as plt\n",
    "from keras_preprocessing import image\n",
    "path='data/test/benign/1.jpg'\n",
    "test_image = image.load_img(path, target_size = (224, 224))\n",
    "print(test_image)\n",
    "test_image = image.img_to_array(test_image)\n",
    "print(test_image)\n",
    "test_image = np.expand_dims(test_image, axis = 0)\n",
    "print(test_image)\n",
    "result = cnn.predict(test_image)\n",
    "print(result)\n",
    "training_set.class_indices\n",
    "z=plt.imread(path)\n",
    "plt.imshow(z)\n",
    "\n",
    "if result[0][0] == 1:\n",
    "  prediction = 'benign'\n",
    "else:\n",
    "  prediction = 'malignant'\n",
    "print(prediction)"
   ]
  },
  {
   "cell_type": "code",
   "execution_count": null,
   "metadata": {},
   "outputs": [],
   "source": []
  }
 ],
 "metadata": {
  "kernelspec": {
   "display_name": "Python 3",
   "language": "python",
   "name": "python3"
  },
  "language_info": {
   "codemirror_mode": {
    "name": "ipython",
    "version": 3
   },
   "file_extension": ".py",
   "mimetype": "text/x-python",
   "name": "python",
   "nbconvert_exporter": "python",
   "pygments_lexer": "ipython3",
   "version": "3.7.7"
  }
 },
 "nbformat": 4,
 "nbformat_minor": 4
}
