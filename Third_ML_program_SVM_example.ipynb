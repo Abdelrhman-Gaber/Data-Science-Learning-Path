{
  "nbformat": 4,
  "nbformat_minor": 0,
  "metadata": {
    "colab": {
      "name": "Third ML program - SVM example.ipynb",
      "provenance": []
    },
    "kernelspec": {
      "name": "python3",
      "display_name": "Python 3"
    },
    "language_info": {
      "name": "python"
    }
  },
  "cells": [
    {
      "cell_type": "markdown",
      "metadata": {
        "id": "XDxVYvirIdqI"
      },
      "source": [
        "# Third ML program - SVM example\n",
        "## importing libraries and load data\n",
        "### helpful link\n",
        "https://www.youtube.com/watch?v=zErT-VtYOHk"
      ]
    },
    {
      "cell_type": "code",
      "metadata": {
        "colab": {
          "base_uri": "https://localhost:8080/"
        },
        "id": "8QJhtsCJIW0w",
        "outputId": "50fe585e-85f9-4d94-fe14-baca2097781b"
      },
      "source": [
        "from sklearn import datasets\n",
        "import matplotlib.pyplot as plt\n",
        "import numpy as np\n",
        "import tensorflow as tf\n",
        "import pandas as pd\n",
        "import tensorflow.compat.v1 as tf# because of new version\n",
        "tf.disable_v2_behavior()\n",
        "% matplotlib inline\n"
      ],
      "execution_count": 1,
      "outputs": [
        {
          "output_type": "stream",
          "text": [
            "WARNING:tensorflow:From /usr/local/lib/python3.7/dist-packages/tensorflow/python/compat/v2_compat.py:96: disable_resource_variables (from tensorflow.python.ops.variable_scope) is deprecated and will be removed in a future version.\n",
            "Instructions for updating:\n",
            "non-resource variables are not supported in the long term\n"
          ],
          "name": "stdout"
        }
      ]
    },
    {
      "cell_type": "markdown",
      "metadata": {
        "id": "Lk8uGqkSTsDf"
      },
      "source": [
        "## load data"
      ]
    },
    {
      "cell_type": "code",
      "metadata": {
        "id": "C1txebzNLH8N"
      },
      "source": [
        "sess=tf.Session()\n",
        "iris=datasets.load_iris()"
      ],
      "execution_count": 2,
      "outputs": []
    },
    {
      "cell_type": "markdown",
      "metadata": {
        "id": "xHx-UeLrTvih"
      },
      "source": [
        "## choose two feature sable length and width as classifier feature "
      ]
    },
    {
      "cell_type": "code",
      "metadata": {
        "id": "oUmB2fenQFYe"
      },
      "source": [
        "x_vals=np.array([[x[0],x[3]] for x in iris['data']])\n",
        "y_vals=np.array([1 if y==0 else -1 for y in iris['target']])\n",
        "train_indices=np.random.choice(len(x_vals),round(len(x_vals)*0.8),replace=False)\n",
        "test_indices=np.array(list(set(range(len(x_vals)))-set(train_indices)))\n",
        "x_vals_train=x_vals[train_indices]\n",
        "x_vals_test=x_vals[test_indices]\n",
        "y_vals_train=y_vals[train_indices]\n",
        "y_vals_test=y_vals[test_indices]\n"
      ],
      "execution_count": 3,
      "outputs": []
    },
    {
      "cell_type": "code",
      "metadata": {
        "id": "EyPWUaFySHsf"
      },
      "source": [
        "batch_size=100\n",
        "x_data=tf.placeholder(shape=[None,2],dtype=tf.float32)\n",
        "y_target=tf.placeholder(shape=[None,1],dtype=tf.float32)\n",
        "A=tf.Variable(tf.random_normal(shape=[2,1]))\n",
        "b=tf.Variable(tf.random_normal(shape=[1,1]))\n",
        "model_output=tf.add(tf.matmul(x_data,A),b)"
      ],
      "execution_count": 4,
      "outputs": []
    },
    {
      "cell_type": "code",
      "metadata": {
        "id": "NS1O4KiISsg2"
      },
      "source": [
        "l2_norm=tf.reduce_sum(tf.square(A))\n",
        "alpha=tf.constant([0.1])\n",
        "classification_term=tf.reduce_mean(tf.maximum(0.0,tf.subtract(1.0,tf.multiply(model_output,y_target))))\n",
        "loss=tf.add(classification_term,tf.multiply(alpha,l2_norm))\n"
      ],
      "execution_count": 5,
      "outputs": []
    },
    {
      "cell_type": "code",
      "metadata": {
        "id": "La3CZPIXS0W-"
      },
      "source": [
        "prediction=tf.sign(model_output)\n",
        "accuracy=tf.reduce_mean(tf.cast(tf.equal(prediction,y_target),tf.float32))\n",
        "my_opt=tf.train.GradientDescentOptimizer(0.01)\n",
        "train_step=my_opt.minimize(loss)"
      ],
      "execution_count": 6,
      "outputs": []
    },
    {
      "cell_type": "code",
      "metadata": {
        "colab": {
          "base_uri": "https://localhost:8080/"
        },
        "id": "XUPAdG7tTBxI",
        "outputId": "03fe8210-df17-4f96-c702-a1df3a90fcaa"
      },
      "source": [
        "init=tf.initialize_all_variables()\n",
        "sess.run(init)\n",
        "loss_vec=[]\n",
        "train_accuracy=[]\n",
        "test_accuracy=[]\n",
        "for i in range(500):\n",
        "    rand_index=np.random.choice(len(x_vals_train),size=batch_size)\n",
        "    rand_x=x_vals_train[rand_index]\n",
        "    rand_y=np.transpose([y_vals_train[rand_index]])\n",
        "    sess.run(train_step,feed_dict={x_data:rand_x,y_target:rand_y})\n",
        "    temp_loss=sess.run(loss,feed_dict={x_data:rand_x,y_target:rand_y})\n",
        "    loss_vec.append(temp_loss)\n",
        "    train_accuracy_temp=sess.run(accuracy,feed_dict={x_data:x_vals_test,y_target:np.transpose([y_vals_test])})\n",
        "    train_accuracy.append(train_accuracy_temp)\n",
        "    test_accuracy_temp=sess.run(accuracy,feed_dict={x_data:x_vals_test,y_target:np.transpose([y_vals_test])})\n",
        "    test_accuracy.append(test_accuracy_temp)\n",
        "    if(i+1)%100==0:\n",
        "        print('step #'+str(i+1)+' A = '+str(sess.run(A))+' b= '+str(sess.run(b)))\n",
        "        print('loss is '+str(temp_loss))\n"
      ],
      "execution_count": 7,
      "outputs": [
        {
          "output_type": "stream",
          "text": [
            "WARNING:tensorflow:From /usr/local/lib/python3.7/dist-packages/tensorflow/python/util/tf_should_use.py:247: initialize_all_variables (from tensorflow.python.ops.variables) is deprecated and will be removed after 2017-03-02.\n",
            "Instructions for updating:\n",
            "Use `tf.global_variables_initializer` instead.\n",
            "step #100 A = [[-0.13051699]\n",
            " [ 0.13318813]] b= [[-0.477428]]\n",
            "loss is [0.68550986]\n",
            "step #200 A = [[-0.04541439]\n",
            " [-0.18500717]] b= [[-0.42222807]]\n",
            "loss is [0.5866581]\n",
            "step #300 A = [[-0.00595763]\n",
            " [-0.39793944]] b= [[-0.3712277]]\n",
            "loss is [0.52510464]\n",
            "step #400 A = [[ 0.02274513]\n",
            " [-0.5665165 ]] b= [[-0.31932762]]\n",
            "loss is [0.43136603]\n",
            "step #500 A = [[ 0.04780045]\n",
            " [-0.70850956]] b= [[-0.2649275]]\n",
            "loss is [0.43847072]\n"
          ],
          "name": "stdout"
        }
      ]
    },
    {
      "cell_type": "code",
      "metadata": {
        "colab": {
          "base_uri": "https://localhost:8080/",
          "height": 281
        },
        "id": "w9PeNxeGTMOD",
        "outputId": "cef99a52-4c40-4fa1-efd8-feda3aca73dd"
      },
      "source": [
        "[[a1],[a2]]=sess.run(A)\n",
        "[[b1]]=sess.run(b)\n",
        "slope=-a2/a1\n",
        "y_intercept=b1/a1\n",
        "x1_vals=[d[1] for d in x_vals]\n",
        " \n",
        "best_fit=[i*slope+y_intercept for i in x1_vals]\n",
        "setosa_x=[d[1] for i,d in enumerate(x_vals) if y_vals[i]==1]\n",
        "setosa_y=[d[0] for i,d in enumerate(x_vals) if y_vals[i]==1]\n",
        "not_setosa_x=[d[1] for i,d in enumerate(x_vals) if y_vals[i]==-1]\n",
        "not_setosa_y=[d[0] for i,d in enumerate(x_vals) if y_vals[i]==-1]\n",
        "plt.plot(setosa_x,setosa_y,'o',label='setosa')\n",
        "plt.plot(not_setosa_x,not_setosa_y,'x',label='Non-setosa')\n",
        "plt.plot(x1_vals,best_fit,'r-',label='Linear Separator',linewidth=3)"
      ],
      "execution_count": 8,
      "outputs": [
        {
          "output_type": "execute_result",
          "data": {
            "text/plain": [
              "[<matplotlib.lines.Line2D at 0x7fdf57013a50>]"
            ]
          },
          "metadata": {
            "tags": []
          },
          "execution_count": 8
        },
        {
          "output_type": "display_data",
          "data": {
            "image/png": "[encoded data removed]",
            "text/plain": [
              "<Figure size 432x288 with 1 Axes>"
            ]
          },
          "metadata": {
            "tags": [],
            "needs_background": "light"
          }
        }
      ]
    },
    {
      "cell_type": "code",
      "metadata": {
        "colab": {
          "base_uri": "https://localhost:8080/",
          "height": 327
        },
        "id": "Bzt9EFVSTYAz",
        "outputId": "69dbab2b-724b-480a-f9b5-a7ca724ce660"
      },
      "source": [
        "plt.ylim([0,10])\n",
        "plt.legend(loc='lower right')\n",
        "plt.title('sepal length vs pedal width')\n",
        "plt.xlabel('pedal width')\n",
        "plt.ylabel('sepal width')\n",
        "plt.plot(train_accuracy,'k-',label='Training Accuracy')\n",
        "plt.plot(test_accuracy,'r--',label='Test Accuracy')\n",
        "plt.title('Train and Test Set Accuracy')\n",
        "plt.plot(loss_vec,'k-',)\n",
        "plt.title('loss')"
      ],
      "execution_count": 9,
      "outputs": [
        {
          "output_type": "stream",
          "text": [
            "No handles with labels found to put in legend.\n"
          ],
          "name": "stderr"
        },
        {
          "output_type": "execute_result",
          "data": {
            "text/plain": [
              "Text(0.5, 1.0, 'loss')"
            ]
          },
          "metadata": {
            "tags": []
          },
          "execution_count": 9
        },
        {
          "output_type": "display_data",
          "data": {
            "image/png": "[encoded data removed]",
            "text/plain": [
              "<Figure size 432x288 with 1 Axes>"
            ]
          },
          "metadata": {
            "tags": [],
            "needs_background": "light"
          }
        }
      ]
    }
  ]
}