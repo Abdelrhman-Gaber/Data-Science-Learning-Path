{
  "nbformat": 4,
  "nbformat_minor": 0,
  "metadata": {
    "colab": {
      "name": "CNN - Train face detector using CNN.ipynb",
      "provenance": []
    },
    "kernelspec": {
      "name": "python3",
      "display_name": "Python 3"
    },
    "language_info": {
      "name": "python"
    }
  },
  "cells": [
    {
      "cell_type": "markdown",
      "metadata": {
        "id": "E4TV3TsnkoDs"
      },
      "source": [
        "# CNN - Train detector using CNN\n",
        "## import libraries and load data"
      ]
    },
    {
      "cell_type": "code",
      "metadata": {
        "id": "jGjtW69BkdTr"
      },
      "source": [
        "# !unzip Face-Images.zip"
      ],
      "execution_count": 1,
      "outputs": []
    },
    {
      "cell_type": "code",
      "metadata": {
        "id": "6Dmp7bt6mfqo"
      },
      "source": [
        "TrainingImagePath='Face Images/Final Training Images'\n",
        "TestingImagePath='Face Images/Final Testing Images'"
      ],
      "execution_count": 2,
      "outputs": []
    },
    {
      "cell_type": "code",
      "metadata": {
        "id": "Iin_Tj4_mwQP"
      },
      "source": [
        "from keras.preprocessing.image import ImageDataGenerator"
      ],
      "execution_count": 3,
      "outputs": []
    },
    {
      "cell_type": "code",
      "metadata": {
        "colab": {
          "base_uri": "https://localhost:8080/"
        },
        "id": "uK_FP3vjm0HA",
        "outputId": "e99f6ea4-f8c3-470c-ba59-e7c168fc25ca"
      },
      "source": [
        "train_datagen = ImageDataGenerator(\n",
        "                shear_range=0.1,\n",
        "                zoom_range=0.1,\n",
        "                horizontal_flip=True)\n",
        "test_datagen = ImageDataGenerator()\n",
        "\n",
        "training_set = train_datagen.flow_from_directory(\n",
        "                                                  TrainingImagePath,\n",
        "                                                  target_size=(64, 64),\n",
        "                                                  batch_size=32,\n",
        "                                                  class_mode='categorical')\n",
        "test_set = test_datagen.flow_from_directory(\n",
        "                                                  TestingImagePath,\n",
        "                                                  target_size=(64, 64),\n",
        "                                                  batch_size=32,\n",
        "                                                  class_mode='categorical')\n",
        "test_set.class_indices"
      ],
      "execution_count": 4,
      "outputs": [
        {
          "output_type": "stream",
          "text": [
            "Found 244 images belonging to 16 classes.\n",
            "Found 64 images belonging to 16 classes.\n"
          ],
          "name": "stdout"
        },
        {
          "output_type": "execute_result",
          "data": {
            "text/plain": [
              "{'face1': 0,\n",
              " 'face10': 1,\n",
              " 'face11': 2,\n",
              " 'face12': 3,\n",
              " 'face13': 4,\n",
              " 'face14': 5,\n",
              " 'face15': 6,\n",
              " 'face16': 7,\n",
              " 'face2': 8,\n",
              " 'face3': 9,\n",
              " 'face4': 10,\n",
              " 'face5': 11,\n",
              " 'face6': 12,\n",
              " 'face7': 13,\n",
              " 'face8': 14,\n",
              " 'face9': 15}"
            ]
          },
          "metadata": {
            "tags": []
          },
          "execution_count": 4
        }
      ]
    },
    {
      "cell_type": "code",
      "metadata": {
        "id": "12NzmZOPomiW"
      },
      "source": [
        "from keras.models import Sequential\n",
        "from keras.layers import Convolution2D\n",
        "from keras.layers import MaxPool2D\n",
        "from keras.layers import Flatten\n",
        "from keras.layers import Dense"
      ],
      "execution_count": 5,
      "outputs": []
    },
    {
      "cell_type": "code",
      "metadata": {
        "id": "POtx4yhXpmDM"
      },
      "source": [
        "classifier= Sequential()\n",
        "classifier.add(Convolution2D(32, kernel_size=(5, 5), strides=(1, 1), input_shape=(64,64,3), activation='relu'))\n",
        "classifier.add(MaxPool2D(pool_size=(2,2)))\n",
        "classifier.add(Convolution2D(64, kernel_size=(5, 5), strides=(1, 1), activation='relu'))\n",
        "classifier.add(MaxPool2D(pool_size=(2,2)))\n",
        "classifier.add(Flatten())\n",
        "classifier.add(Dense(64, activation='relu'))\n",
        "classifier.add(Dense(16, activation='softmax'))\n",
        "classifier.compile(loss='categorical_crossentropy', optimizer = 'adam', metrics=[\"accuracy\"])\n",
        "\n"
      ],
      "execution_count": 6,
      "outputs": []
    },
    {
      "cell_type": "code",
      "metadata": {
        "colab": {
          "base_uri": "https://localhost:8080/"
        },
        "id": "TrxyA6W2qQme",
        "outputId": "e4814691-0f45-4b95-bf97-4cf513c4c91f"
      },
      "source": [
        "classifier.fit(\n",
        "                    training_set,\n",
        "                    steps_per_epoch=8,\n",
        "                    epochs=10,\n",
        "                    validation_data=test_set,\n",
        "                    validation_steps=10)"
      ],
      "execution_count": 12,
      "outputs": [
        {
          "output_type": "stream",
          "text": [
            "Epoch 1/10\n",
            "8/8 [==============================] - ETA: 0s - loss: 0.7668 - accuracy: 0.7459WARNING:tensorflow:Your input ran out of data; interrupting training. Make sure that your dataset or generator can generate at least `steps_per_epoch * epochs` batches (in this case, 10 batches). You may need to use the repeat() function when building your dataset.\n",
            "8/8 [==============================] - 3s 405ms/step - loss: 0.7668 - accuracy: 0.7459 - val_loss: 0.3906 - val_accuracy: 0.9062\n",
            "Epoch 2/10\n",
            "8/8 [==============================] - 3s 347ms/step - loss: 0.4764 - accuracy: 0.8402\n",
            "Epoch 3/10\n",
            "8/8 [==============================] - 3s 344ms/step - loss: 0.3299 - accuracy: 0.8975\n",
            "Epoch 4/10\n",
            "8/8 [==============================] - 3s 348ms/step - loss: 0.2237 - accuracy: 0.9221\n",
            "Epoch 5/10\n",
            "8/8 [==============================] - 3s 344ms/step - loss: 0.2166 - accuracy: 0.9385\n",
            "Epoch 6/10\n",
            "8/8 [==============================] - 3s 361ms/step - loss: 0.1606 - accuracy: 0.9631\n",
            "Epoch 7/10\n",
            "8/8 [==============================] - 3s 364ms/step - loss: 0.1308 - accuracy: 0.9590\n",
            "Epoch 8/10\n",
            "8/8 [==============================] - 3s 344ms/step - loss: 0.0798 - accuracy: 0.9713\n",
            "Epoch 9/10\n",
            "8/8 [==============================] - 3s 345ms/step - loss: 0.0419 - accuracy: 0.9836\n",
            "Epoch 10/10\n",
            "8/8 [==============================] - 3s 343ms/step - loss: 0.0600 - accuracy: 0.9754\n"
          ],
          "name": "stdout"
        },
        {
          "output_type": "execute_result",
          "data": {
            "text/plain": [
              "<keras.callbacks.History at 0x7f1c58579e10>"
            ]
          },
          "metadata": {
            "tags": []
          },
          "execution_count": 12
        }
      ]
    },
    {
      "cell_type": "code",
      "metadata": {
        "colab": {
          "base_uri": "https://localhost:8080/"
        },
        "id": "b5_ASnafqWDb",
        "outputId": "fc440d5a-ea5e-4d08-ef09-501f8db7e56d"
      },
      "source": [
        "import numpy as np\n",
        "from keras.preprocessing import image\n",
        "Mapping = ['face1','face10','face11','face12','face13','face14','face15','face16','face2','face3','face4','face5','face6','face7','face8','face9']\n",
        "ImagePath='/content/Face Images/Final Testing Images/face10/1face10.jpg'\n",
        "test_image=image.load_img(ImagePath,target_size=(64, 64))\n",
        "\n",
        "test_image=image.img_to_array(test_image)\n",
        " \n",
        "test_image=np.expand_dims(test_image,axis=0)\n",
        " \n",
        "result=classifier.predict(test_image,verbose=0)\n",
        "\n",
        "print(Mapping[np.argmax(result)])\n",
        "\n"
      ],
      "execution_count": 27,
      "outputs": [
        {
          "output_type": "stream",
          "text": [
            "face10\n"
          ],
          "name": "stdout"
        }
      ]
    }
  ]
}