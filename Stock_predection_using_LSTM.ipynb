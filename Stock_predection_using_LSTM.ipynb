{
  "nbformat": 4,
  "nbformat_minor": 0,
  "metadata": {
    "colab": {
      "name": "Stock predection using LSTM.ipynb",
      "provenance": []
    },
    "kernelspec": {
      "name": "python3",
      "display_name": "Python 3"
    },
    "language_info": {
      "name": "python"
    }
  },
  "cells": [
    {
      "cell_type": "markdown",
      "metadata": {
        "id": "mlzL8t8-uIG_"
      },
      "source": [
        "# Stock predection using LSTM"
      ]
    },
    {
      "cell_type": "code",
      "metadata": {
        "id": "Of4u9K-4tiVG"
      },
      "source": [
        "import pandas as pd\n",
        "import numpy as np\n",
        "import matplotlib.pyplot as plt\n",
        "% matplotlib inline"
      ],
      "execution_count": 1,
      "outputs": []
    },
    {
      "cell_type": "code",
      "metadata": {
        "colab": {
          "base_uri": "https://localhost:8080/",
          "height": 322
        },
        "id": "v-Vo7tLUByMU",
        "outputId": "f0f73668-feba-483a-ed9b-89e68169aea7"
      },
      "source": [
        "df=pd.read_csv('AAPL.csv')\n",
        "df.head()"
      ],
      "execution_count": 2,
      "outputs": [
        {
          "output_type": "execute_result",
          "data": {
            "text/html": [
              "<div>\n",
              "<style scoped>\n",
              "    .dataframe tbody tr th:only-of-type {\n",
              "        vertical-align: middle;\n",
              "    }\n",
              "\n",
              "    .dataframe tbody tr th {\n",
              "        vertical-align: top;\n",
              "    }\n",
              "\n",
              "    .dataframe thead th {\n",
              "        text-align: right;\n",
              "    }\n",
              "</style>\n",
              "<table border=\"1\" class=\"dataframe\">\n",
              "  <thead>\n",
              "    <tr style=\"text-align: right;\">\n",
              "      <th></th>\n",
              "      <th>Unnamed: 0</th>\n",
              "      <th>symbol</th>\n",
              "      <th>date</th>\n",
              "      <th>close</th>\n",
              "      <th>high</th>\n",
              "      <th>low</th>\n",
              "      <th>open</th>\n",
              "      <th>volume</th>\n",
              "      <th>adjClose</th>\n",
              "      <th>adjHigh</th>\n",
              "      <th>adjLow</th>\n",
              "      <th>adjOpen</th>\n",
              "      <th>adjVolume</th>\n",
              "      <th>divCash</th>\n",
              "      <th>splitFactor</th>\n",
              "    </tr>\n",
              "  </thead>\n",
              "  <tbody>\n",
              "    <tr>\n",
              "      <th>0</th>\n",
              "      <td>0</td>\n",
              "      <td>AAPL</td>\n",
              "      <td>2015-05-27 00:00:00+00:00</td>\n",
              "      <td>132.045</td>\n",
              "      <td>132.260</td>\n",
              "      <td>130.05</td>\n",
              "      <td>130.34</td>\n",
              "      <td>45833246</td>\n",
              "      <td>121.682558</td>\n",
              "      <td>121.880685</td>\n",
              "      <td>119.844118</td>\n",
              "      <td>120.111360</td>\n",
              "      <td>45833246</td>\n",
              "      <td>0.0</td>\n",
              "      <td>1.0</td>\n",
              "    </tr>\n",
              "    <tr>\n",
              "      <th>1</th>\n",
              "      <td>1</td>\n",
              "      <td>AAPL</td>\n",
              "      <td>2015-05-28 00:00:00+00:00</td>\n",
              "      <td>131.780</td>\n",
              "      <td>131.950</td>\n",
              "      <td>131.10</td>\n",
              "      <td>131.86</td>\n",
              "      <td>30733309</td>\n",
              "      <td>121.438354</td>\n",
              "      <td>121.595013</td>\n",
              "      <td>120.811718</td>\n",
              "      <td>121.512076</td>\n",
              "      <td>30733309</td>\n",
              "      <td>0.0</td>\n",
              "      <td>1.0</td>\n",
              "    </tr>\n",
              "    <tr>\n",
              "      <th>2</th>\n",
              "      <td>2</td>\n",
              "      <td>AAPL</td>\n",
              "      <td>2015-05-29 00:00:00+00:00</td>\n",
              "      <td>130.280</td>\n",
              "      <td>131.450</td>\n",
              "      <td>129.90</td>\n",
              "      <td>131.23</td>\n",
              "      <td>50884452</td>\n",
              "      <td>120.056069</td>\n",
              "      <td>121.134251</td>\n",
              "      <td>119.705890</td>\n",
              "      <td>120.931516</td>\n",
              "      <td>50884452</td>\n",
              "      <td>0.0</td>\n",
              "      <td>1.0</td>\n",
              "    </tr>\n",
              "    <tr>\n",
              "      <th>3</th>\n",
              "      <td>3</td>\n",
              "      <td>AAPL</td>\n",
              "      <td>2015-06-01 00:00:00+00:00</td>\n",
              "      <td>130.535</td>\n",
              "      <td>131.390</td>\n",
              "      <td>130.05</td>\n",
              "      <td>131.20</td>\n",
              "      <td>32112797</td>\n",
              "      <td>120.291057</td>\n",
              "      <td>121.078960</td>\n",
              "      <td>119.844118</td>\n",
              "      <td>120.903870</td>\n",
              "      <td>32112797</td>\n",
              "      <td>0.0</td>\n",
              "      <td>1.0</td>\n",
              "    </tr>\n",
              "    <tr>\n",
              "      <th>4</th>\n",
              "      <td>4</td>\n",
              "      <td>AAPL</td>\n",
              "      <td>2015-06-02 00:00:00+00:00</td>\n",
              "      <td>129.960</td>\n",
              "      <td>130.655</td>\n",
              "      <td>129.32</td>\n",
              "      <td>129.86</td>\n",
              "      <td>33667627</td>\n",
              "      <td>119.761181</td>\n",
              "      <td>120.401640</td>\n",
              "      <td>119.171406</td>\n",
              "      <td>119.669029</td>\n",
              "      <td>33667627</td>\n",
              "      <td>0.0</td>\n",
              "      <td>1.0</td>\n",
              "    </tr>\n",
              "  </tbody>\n",
              "</table>\n",
              "</div>"
            ],
            "text/plain": [
              "   Unnamed: 0 symbol  ... divCash  splitFactor\n",
              "0           0   AAPL  ...     0.0          1.0\n",
              "1           1   AAPL  ...     0.0          1.0\n",
              "2           2   AAPL  ...     0.0          1.0\n",
              "3           3   AAPL  ...     0.0          1.0\n",
              "4           4   AAPL  ...     0.0          1.0\n",
              "\n",
              "[5 rows x 15 columns]"
            ]
          },
          "metadata": {
            "tags": []
          },
          "execution_count": 2
        }
      ]
    },
    {
      "cell_type": "code",
      "metadata": {
        "id": "BVx88AOLB8jC"
      },
      "source": [
        "df_1=df.reset_index()['high']"
      ],
      "execution_count": 3,
      "outputs": []
    },
    {
      "cell_type": "code",
      "metadata": {
        "colab": {
          "base_uri": "https://localhost:8080/"
        },
        "id": "GpWB7eSJCEuk",
        "outputId": "2d3c91f3-4a96-4179-89dc-2cacbdd64b60"
      },
      "source": [
        "df_1.shape"
      ],
      "execution_count": 4,
      "outputs": [
        {
          "output_type": "execute_result",
          "data": {
            "text/plain": [
              "(1258,)"
            ]
          },
          "metadata": {
            "tags": []
          },
          "execution_count": 4
        }
      ]
    },
    {
      "cell_type": "code",
      "metadata": {
        "colab": {
          "base_uri": "https://localhost:8080/",
          "height": 281
        },
        "id": "yHj9LpvZCObN",
        "outputId": "4b918777-8816-466d-c150-a55e3a1c27a1"
      },
      "source": [
        "plt.plot(df_1)"
      ],
      "execution_count": 5,
      "outputs": [
        {
          "output_type": "execute_result",
          "data": {
            "text/plain": [
              "[<matplotlib.lines.Line2D at 0x7fa5bedeccd0>]"
            ]
          },
          "metadata": {
            "tags": []
          },
          "execution_count": 5
        },
        {
          "output_type": "display_data",
          "data": {
            "image/png": "[encoded data removed]",
            "text/plain": [
              "<Figure size 432x288 with 1 Axes>"
            ]
          },
          "metadata": {
            "tags": [],
            "needs_background": "light"
          }
        }
      ]
    },
    {
      "cell_type": "code",
      "metadata": {
        "id": "z4NrgBxzCZ-Y"
      },
      "source": [
        "from sklearn.preprocessing import MinMaxScaler\n",
        "scaler=MinMaxScaler(feature_range=(0,1))\n",
        "df_1=scaler.fit_transform(np.array(df_1).reshape(-1,1))"
      ],
      "execution_count": 6,
      "outputs": []
    },
    {
      "cell_type": "code",
      "metadata": {
        "colab": {
          "base_uri": "https://localhost:8080/"
        },
        "id": "DXpxuw1zDA0f",
        "outputId": "a80ae421-169d-4dd8-97cc-e3099a28ed4f"
      },
      "source": [
        "df_1"
      ],
      "execution_count": 7,
      "outputs": [
        {
          "output_type": "execute_result",
          "data": {
            "text/plain": [
              "array([[0.17186045],\n",
              "       [0.17054789],\n",
              "       [0.16843086],\n",
              "       ...,\n",
              "       [0.96473029],\n",
              "       [0.97053095],\n",
              "       [0.96350241]])"
            ]
          },
          "metadata": {
            "tags": []
          },
          "execution_count": 7
        }
      ]
    },
    {
      "cell_type": "code",
      "metadata": {
        "id": "nA-4zlsHDEZb"
      },
      "source": [
        "training_size=int(len(df_1)*0.65)\n",
        "test_size=len(df_1)-training_size\n",
        "train_data,test_data=df_1[0:training_size,:],df_1[training_size:len(df_1),:1]"
      ],
      "execution_count": 8,
      "outputs": []
    },
    {
      "cell_type": "code",
      "metadata": {
        "colab": {
          "base_uri": "https://localhost:8080/"
        },
        "id": "qeESARzAELpk",
        "outputId": "8415581a-5003-4a41-c613-4ff5fa307cb7"
      },
      "source": [
        "train_data.shape,test_data.shape"
      ],
      "execution_count": 9,
      "outputs": [
        {
          "output_type": "execute_result",
          "data": {
            "text/plain": [
              "((817, 1), (441, 1))"
            ]
          },
          "metadata": {
            "tags": []
          },
          "execution_count": 9
        }
      ]
    },
    {
      "cell_type": "code",
      "metadata": {
        "id": "0fGe6NYREYuA"
      },
      "source": [
        "def create_dataset(dataset, time_step=1):\n",
        "\tdataX, dataY = [], []\n",
        "\tfor i in range(len(dataset)-time_step-1):\n",
        "\t\ta = dataset[i:(i+time_step), 0]   ###i=0, 0,1,2,3-----99   100 \n",
        "\t\tdataX.append(a)\n",
        "\t\tdataY.append(dataset[i + time_step, 0])\n",
        "\treturn np.array(dataX), np.array(dataY)"
      ],
      "execution_count": 10,
      "outputs": []
    },
    {
      "cell_type": "code",
      "metadata": {
        "id": "hvX9fnsnE_ZY"
      },
      "source": [
        "time_step = 100\n",
        "X_train, y_train = create_dataset(train_data, time_step)\n",
        "X_test, y_test = create_dataset(test_data, time_step)"
      ],
      "execution_count": 11,
      "outputs": []
    },
    {
      "cell_type": "code",
      "metadata": {
        "colab": {
          "base_uri": "https://localhost:8080/"
        },
        "id": "_6ntpM_AFF4L",
        "outputId": "a09631d3-55d8-452f-d68f-5000fff66add"
      },
      "source": [
        "print(X_train.shape), print(y_train.shape)\n",
        "print(X_test.shape), print(y_test.shape)"
      ],
      "execution_count": 12,
      "outputs": [
        {
          "output_type": "stream",
          "text": [
            "(716, 100)\n",
            "(716,)\n",
            "(340, 100)\n",
            "(340,)\n"
          ],
          "name": "stdout"
        },
        {
          "output_type": "execute_result",
          "data": {
            "text/plain": [
              "(None, None)"
            ]
          },
          "metadata": {
            "tags": []
          },
          "execution_count": 12
        }
      ]
    },
    {
      "cell_type": "code",
      "metadata": {
        "id": "InufLOcZFV3A"
      },
      "source": [
        "# reshape input to be [samples, time steps, features] which is required for LSTM\n",
        "X_train =X_train.reshape(X_train.shape[0],X_train.shape[1] , 1)\n",
        "X_test = X_test.reshape(X_test.shape[0],X_test.shape[1] , 1)"
      ],
      "execution_count": 13,
      "outputs": []
    },
    {
      "cell_type": "code",
      "metadata": {
        "id": "YFs_ghCCFb6-"
      },
      "source": [
        "from tensorflow.keras.models import Sequential\n",
        "from tensorflow.keras.layers import Dense\n",
        "from tensorflow.keras.layers import LSTM"
      ],
      "execution_count": 14,
      "outputs": []
    },
    {
      "cell_type": "code",
      "metadata": {
        "id": "WVH1ipopFhTY"
      },
      "source": [
        "model=Sequential()\n",
        "model.add(LSTM(50,return_sequences=True,input_shape=(100,1)))\n",
        "model.add(LSTM(50,return_sequences=True))\n",
        "model.add(LSTM(50))\n",
        "model.add(Dense(1))\n",
        "model.compile(loss='mean_squared_error',optimizer='adam')"
      ],
      "execution_count": 15,
      "outputs": []
    },
    {
      "cell_type": "code",
      "metadata": {
        "colab": {
          "base_uri": "https://localhost:8080/"
        },
        "id": "vajntkd8FheP",
        "outputId": "4c056916-98c1-4e6a-e4d6-031aff567005"
      },
      "source": [
        "model.fit(X_train,y_train,validation_data=(X_test,y_test),epochs=100,batch_size=64,verbose=1)"
      ],
      "execution_count": 16,
      "outputs": [
        {
          "output_type": "stream",
          "text": [
            "Epoch 1/100\n",
            "12/12 [==============================] - 8s 296ms/step - loss: 0.0278 - val_loss: 0.0176\n",
            "Epoch 2/100\n",
            "12/12 [==============================] - 2s 191ms/step - loss: 0.0053 - val_loss: 0.0057\n",
            "Epoch 3/100\n",
            "12/12 [==============================] - 2s 187ms/step - loss: 0.0012 - val_loss: 0.0078\n",
            "Epoch 4/100\n",
            "12/12 [==============================] - 2s 190ms/step - loss: 7.6632e-04 - val_loss: 0.0040\n",
            "Epoch 5/100\n",
            "12/12 [==============================] - 2s 187ms/step - loss: 6.2797e-04 - val_loss: 0.0037\n",
            "Epoch 6/100\n",
            "12/12 [==============================] - 2s 193ms/step - loss: 6.0427e-04 - val_loss: 0.0047\n",
            "Epoch 7/100\n",
            "12/12 [==============================] - 2s 191ms/step - loss: 5.7521e-04 - val_loss: 0.0040\n",
            "Epoch 8/100\n",
            "12/12 [==============================] - 2s 190ms/step - loss: 5.6361e-04 - val_loss: 0.0035\n",
            "Epoch 9/100\n",
            "12/12 [==============================] - 2s 188ms/step - loss: 5.5756e-04 - val_loss: 0.0035\n",
            "Epoch 10/100\n",
            "12/12 [==============================] - 2s 189ms/step - loss: 5.6108e-04 - val_loss: 0.0043\n",
            "Epoch 11/100\n",
            "12/12 [==============================] - 2s 191ms/step - loss: 5.7360e-04 - val_loss: 0.0039\n",
            "Epoch 12/100\n",
            "12/12 [==============================] - 2s 192ms/step - loss: 5.4670e-04 - val_loss: 0.0031\n",
            "Epoch 13/100\n",
            "12/12 [==============================] - 2s 190ms/step - loss: 5.7178e-04 - val_loss: 0.0030\n",
            "Epoch 14/100\n",
            "12/12 [==============================] - 2s 188ms/step - loss: 5.1357e-04 - val_loss: 0.0029\n",
            "Epoch 15/100\n",
            "12/12 [==============================] - 2s 190ms/step - loss: 5.1848e-04 - val_loss: 0.0030\n",
            "Epoch 16/100\n",
            "12/12 [==============================] - 2s 189ms/step - loss: 5.3418e-04 - val_loss: 0.0030\n",
            "Epoch 17/100\n",
            "12/12 [==============================] - 2s 189ms/step - loss: 5.1068e-04 - val_loss: 0.0028\n",
            "Epoch 18/100\n",
            "12/12 [==============================] - 2s 189ms/step - loss: 5.2332e-04 - val_loss: 0.0027\n",
            "Epoch 19/100\n",
            "12/12 [==============================] - 2s 191ms/step - loss: 4.8557e-04 - val_loss: 0.0024\n",
            "Epoch 20/100\n",
            "12/12 [==============================] - 2s 191ms/step - loss: 4.9546e-04 - val_loss: 0.0027\n",
            "Epoch 21/100\n",
            "12/12 [==============================] - 2s 190ms/step - loss: 4.9364e-04 - val_loss: 0.0025\n",
            "Epoch 22/100\n",
            "12/12 [==============================] - 2s 191ms/step - loss: 4.5663e-04 - val_loss: 0.0023\n",
            "Epoch 23/100\n",
            "12/12 [==============================] - 2s 191ms/step - loss: 4.6137e-04 - val_loss: 0.0021\n",
            "Epoch 24/100\n",
            "12/12 [==============================] - 2s 192ms/step - loss: 4.6615e-04 - val_loss: 0.0020\n",
            "Epoch 25/100\n",
            "12/12 [==============================] - 2s 188ms/step - loss: 4.3971e-04 - val_loss: 0.0023\n",
            "Epoch 26/100\n",
            "12/12 [==============================] - 2s 189ms/step - loss: 4.0434e-04 - val_loss: 0.0019\n",
            "Epoch 27/100\n",
            "12/12 [==============================] - 2s 187ms/step - loss: 4.2997e-04 - val_loss: 0.0022\n",
            "Epoch 28/100\n",
            "12/12 [==============================] - 2s 187ms/step - loss: 4.3859e-04 - val_loss: 0.0023\n",
            "Epoch 29/100\n",
            "12/12 [==============================] - 2s 191ms/step - loss: 4.3600e-04 - val_loss: 0.0016\n",
            "Epoch 30/100\n",
            "12/12 [==============================] - 2s 191ms/step - loss: 4.1580e-04 - val_loss: 0.0018\n",
            "Epoch 31/100\n",
            "12/12 [==============================] - 2s 190ms/step - loss: 3.9801e-04 - val_loss: 0.0017\n",
            "Epoch 32/100\n",
            "12/12 [==============================] - 2s 188ms/step - loss: 3.8952e-04 - val_loss: 0.0018\n",
            "Epoch 33/100\n",
            "12/12 [==============================] - 2s 188ms/step - loss: 3.7592e-04 - val_loss: 0.0015\n",
            "Epoch 34/100\n",
            "12/12 [==============================] - 2s 190ms/step - loss: 4.0352e-04 - val_loss: 0.0020\n",
            "Epoch 35/100\n",
            "12/12 [==============================] - 2s 193ms/step - loss: 3.6372e-04 - val_loss: 0.0021\n",
            "Epoch 36/100\n",
            "12/12 [==============================] - 2s 189ms/step - loss: 3.6351e-04 - val_loss: 0.0031\n",
            "Epoch 37/100\n",
            "12/12 [==============================] - 2s 188ms/step - loss: 5.6755e-04 - val_loss: 0.0029\n",
            "Epoch 38/100\n",
            "12/12 [==============================] - 2s 190ms/step - loss: 4.0994e-04 - val_loss: 0.0020\n",
            "Epoch 39/100\n",
            "12/12 [==============================] - 2s 191ms/step - loss: 3.3905e-04 - val_loss: 0.0014\n",
            "Epoch 40/100\n",
            "12/12 [==============================] - 2s 190ms/step - loss: 3.3408e-04 - val_loss: 0.0019\n",
            "Epoch 41/100\n",
            "12/12 [==============================] - 2s 196ms/step - loss: 3.1288e-04 - val_loss: 0.0018\n",
            "Epoch 42/100\n",
            "12/12 [==============================] - 2s 194ms/step - loss: 3.4501e-04 - val_loss: 0.0022\n",
            "Epoch 43/100\n",
            "12/12 [==============================] - 2s 189ms/step - loss: 3.1147e-04 - val_loss: 0.0012\n",
            "Epoch 44/100\n",
            "12/12 [==============================] - 2s 193ms/step - loss: 2.9620e-04 - val_loss: 0.0012\n",
            "Epoch 45/100\n",
            "12/12 [==============================] - 2s 193ms/step - loss: 3.0288e-04 - val_loss: 0.0014\n",
            "Epoch 46/100\n",
            "12/12 [==============================] - 2s 196ms/step - loss: 2.8962e-04 - val_loss: 0.0015\n",
            "Epoch 47/100\n",
            "12/12 [==============================] - 2s 195ms/step - loss: 2.8702e-04 - val_loss: 0.0015\n",
            "Epoch 48/100\n",
            "12/12 [==============================] - 2s 191ms/step - loss: 2.8556e-04 - val_loss: 0.0014\n",
            "Epoch 49/100\n",
            "12/12 [==============================] - 2s 189ms/step - loss: 3.2288e-04 - val_loss: 0.0018\n",
            "Epoch 50/100\n",
            "12/12 [==============================] - 2s 189ms/step - loss: 3.0366e-04 - val_loss: 0.0020\n",
            "Epoch 51/100\n",
            "12/12 [==============================] - 2s 190ms/step - loss: 2.7979e-04 - val_loss: 0.0015\n",
            "Epoch 52/100\n",
            "12/12 [==============================] - 2s 193ms/step - loss: 2.6669e-04 - val_loss: 0.0026\n",
            "Epoch 53/100\n",
            "12/12 [==============================] - 2s 192ms/step - loss: 2.8297e-04 - val_loss: 0.0015\n",
            "Epoch 54/100\n",
            "12/12 [==============================] - 2s 189ms/step - loss: 2.5897e-04 - val_loss: 0.0015\n",
            "Epoch 55/100\n",
            "12/12 [==============================] - 2s 191ms/step - loss: 2.5587e-04 - val_loss: 0.0016\n",
            "Epoch 56/100\n",
            "12/12 [==============================] - 2s 187ms/step - loss: 2.5294e-04 - val_loss: 0.0018\n",
            "Epoch 57/100\n",
            "12/12 [==============================] - 2s 191ms/step - loss: 2.3971e-04 - val_loss: 0.0016\n",
            "Epoch 58/100\n",
            "12/12 [==============================] - 2s 189ms/step - loss: 2.4017e-04 - val_loss: 0.0017\n",
            "Epoch 59/100\n",
            "12/12 [==============================] - 2s 189ms/step - loss: 2.2998e-04 - val_loss: 0.0022\n",
            "Epoch 60/100\n",
            "12/12 [==============================] - 2s 191ms/step - loss: 2.4295e-04 - val_loss: 0.0023\n",
            "Epoch 61/100\n",
            "12/12 [==============================] - 2s 191ms/step - loss: 2.3283e-04 - val_loss: 0.0016\n",
            "Epoch 62/100\n",
            "12/12 [==============================] - 2s 192ms/step - loss: 2.2392e-04 - val_loss: 0.0016\n",
            "Epoch 63/100\n",
            "12/12 [==============================] - 2s 189ms/step - loss: 2.1515e-04 - val_loss: 0.0020\n",
            "Epoch 64/100\n",
            "12/12 [==============================] - 2s 192ms/step - loss: 2.5318e-04 - val_loss: 0.0047\n",
            "Epoch 65/100\n",
            "12/12 [==============================] - 2s 194ms/step - loss: 2.9576e-04 - val_loss: 0.0016\n",
            "Epoch 66/100\n",
            "12/12 [==============================] - 2s 193ms/step - loss: 2.3293e-04 - val_loss: 0.0024\n",
            "Epoch 67/100\n",
            "12/12 [==============================] - 2s 192ms/step - loss: 2.2383e-04 - val_loss: 0.0019\n",
            "Epoch 68/100\n",
            "12/12 [==============================] - 2s 191ms/step - loss: 2.0648e-04 - val_loss: 0.0018\n",
            "Epoch 69/100\n",
            "12/12 [==============================] - 2s 190ms/step - loss: 1.9585e-04 - val_loss: 0.0020\n",
            "Epoch 70/100\n",
            "12/12 [==============================] - 2s 195ms/step - loss: 2.2607e-04 - val_loss: 0.0069\n",
            "Epoch 71/100\n",
            "12/12 [==============================] - 2s 196ms/step - loss: 2.7269e-04 - val_loss: 0.0016\n",
            "Epoch 72/100\n",
            "12/12 [==============================] - 2s 190ms/step - loss: 2.1136e-04 - val_loss: 0.0016\n",
            "Epoch 73/100\n",
            "12/12 [==============================] - 2s 193ms/step - loss: 2.1201e-04 - val_loss: 0.0016\n",
            "Epoch 74/100\n",
            "12/12 [==============================] - 2s 189ms/step - loss: 2.0194e-04 - val_loss: 0.0019\n",
            "Epoch 75/100\n",
            "12/12 [==============================] - 2s 194ms/step - loss: 1.7647e-04 - val_loss: 0.0017\n",
            "Epoch 76/100\n",
            "12/12 [==============================] - 2s 194ms/step - loss: 1.8830e-04 - val_loss: 0.0020\n",
            "Epoch 77/100\n",
            "12/12 [==============================] - 2s 191ms/step - loss: 1.8604e-04 - val_loss: 0.0017\n",
            "Epoch 78/100\n",
            "12/12 [==============================] - 2s 188ms/step - loss: 2.1107e-04 - val_loss: 0.0037\n",
            "Epoch 79/100\n",
            "12/12 [==============================] - 2s 190ms/step - loss: 2.0609e-04 - val_loss: 0.0018\n",
            "Epoch 80/100\n",
            "12/12 [==============================] - 2s 193ms/step - loss: 1.9418e-04 - val_loss: 0.0024\n",
            "Epoch 81/100\n",
            "12/12 [==============================] - 2s 193ms/step - loss: 1.8022e-04 - val_loss: 0.0028\n",
            "Epoch 82/100\n",
            "12/12 [==============================] - 2s 193ms/step - loss: 1.7805e-04 - val_loss: 0.0033\n",
            "Epoch 83/100\n",
            "12/12 [==============================] - 2s 192ms/step - loss: 1.6112e-04 - val_loss: 0.0040\n",
            "Epoch 84/100\n",
            "12/12 [==============================] - 2s 193ms/step - loss: 1.4597e-04 - val_loss: 0.0044\n",
            "Epoch 85/100\n",
            "12/12 [==============================] - 2s 191ms/step - loss: 1.4922e-04 - val_loss: 0.0104\n",
            "Epoch 86/100\n",
            "12/12 [==============================] - 2s 192ms/step - loss: 1.9514e-04 - val_loss: 0.0082\n",
            "Epoch 87/100\n",
            "12/12 [==============================] - 2s 191ms/step - loss: 2.0672e-04 - val_loss: 0.0013\n",
            "Epoch 88/100\n",
            "12/12 [==============================] - 2s 192ms/step - loss: 1.8833e-04 - val_loss: 0.0019\n",
            "Epoch 89/100\n",
            "12/12 [==============================] - 2s 192ms/step - loss: 1.8083e-04 - val_loss: 0.0010\n",
            "Epoch 90/100\n",
            "12/12 [==============================] - 2s 189ms/step - loss: 1.5450e-04 - val_loss: 0.0011\n",
            "Epoch 91/100\n",
            "12/12 [==============================] - 2s 192ms/step - loss: 1.5217e-04 - val_loss: 0.0012\n",
            "Epoch 92/100\n",
            "12/12 [==============================] - 2s 190ms/step - loss: 1.5137e-04 - val_loss: 0.0014\n",
            "Epoch 93/100\n",
            "12/12 [==============================] - 2s 197ms/step - loss: 1.4975e-04 - val_loss: 0.0019\n",
            "Epoch 94/100\n",
            "12/12 [==============================] - 2s 193ms/step - loss: 1.5844e-04 - val_loss: 0.0015\n",
            "Epoch 95/100\n",
            "12/12 [==============================] - 2s 190ms/step - loss: 1.2695e-04 - val_loss: 0.0017\n",
            "Epoch 96/100\n",
            "12/12 [==============================] - 2s 191ms/step - loss: 1.3054e-04 - val_loss: 0.0019\n",
            "Epoch 97/100\n",
            "12/12 [==============================] - 2s 192ms/step - loss: 1.2930e-04 - val_loss: 0.0021\n",
            "Epoch 98/100\n",
            "12/12 [==============================] - 2s 193ms/step - loss: 1.2687e-04 - val_loss: 0.0017\n",
            "Epoch 99/100\n",
            "12/12 [==============================] - 2s 192ms/step - loss: 1.2423e-04 - val_loss: 0.0022\n",
            "Epoch 100/100\n",
            "12/12 [==============================] - 2s 195ms/step - loss: 1.3072e-04 - val_loss: 0.0028\n"
          ],
          "name": "stdout"
        },
        {
          "output_type": "execute_result",
          "data": {
            "text/plain": [
              "<tensorflow.python.keras.callbacks.History at 0x7fa571370810>"
            ]
          },
          "metadata": {
            "tags": []
          },
          "execution_count": 16
        }
      ]
    },
    {
      "cell_type": "code",
      "metadata": {
        "id": "B-J0nCoBFszF"
      },
      "source": [
        "train_predict=model.predict(X_train)\n",
        "test_predict=model.predict(X_test)"
      ],
      "execution_count": 17,
      "outputs": []
    },
    {
      "cell_type": "code",
      "metadata": {
        "id": "bovs10vSFtNh"
      },
      "source": [
        "train_predict=scaler.inverse_transform(train_predict)\n",
        "test_predict=scaler.inverse_transform(test_predict)"
      ],
      "execution_count": 18,
      "outputs": []
    },
    {
      "cell_type": "code",
      "metadata": {
        "colab": {
          "base_uri": "https://localhost:8080/"
        },
        "id": "sB6GkqAMFhlB",
        "outputId": "6eaca263-1ef7-4cc7-ec5c-9ba4b15ce650"
      },
      "source": [
        "import math\n",
        "from sklearn.metrics import mean_squared_error\n",
        "math.sqrt(mean_squared_error(y_train,train_predict))"
      ],
      "execution_count": 19,
      "outputs": [
        {
          "output_type": "execute_result",
          "data": {
            "text/plain": [
              "143.98642922306837"
            ]
          },
          "metadata": {
            "tags": []
          },
          "execution_count": 19
        }
      ]
    },
    {
      "cell_type": "code",
      "metadata": {
        "colab": {
          "base_uri": "https://localhost:8080/"
        },
        "id": "xQnv6Lc-Fhpc",
        "outputId": "2aa3436b-cbf0-465b-bebc-0b2a23d2476d"
      },
      "source": [
        "math.sqrt(mean_squared_error(y_test,test_predict))"
      ],
      "execution_count": 20,
      "outputs": [
        {
          "output_type": "execute_result",
          "data": {
            "text/plain": [
              "248.33752832298342"
            ]
          },
          "metadata": {
            "tags": []
          },
          "execution_count": 20
        }
      ]
    },
    {
      "cell_type": "code",
      "metadata": {
        "colab": {
          "base_uri": "https://localhost:8080/",
          "height": 265
        },
        "id": "3p2wqz-7G07e",
        "outputId": "df7e0f7d-5235-4d4f-e64d-8ae74f5c7bfc"
      },
      "source": [
        "look_back=100\n",
        "trainPredictPlot = np.empty_like(df_1)\n",
        "trainPredictPlot[:, :] = np.nan\n",
        "trainPredictPlot[look_back:len(train_predict)+look_back, :] = train_predict\n",
        "# shift test predictions for plotting\n",
        "testPredictPlot = np.empty_like(df_1)\n",
        "testPredictPlot[:, :] = np.nan\n",
        "testPredictPlot[len(train_predict)+(look_back*2)+1:len(df_1)-1, :] = test_predict\n",
        "# plot baseline and predictions\n",
        "plt.plot(scaler.inverse_transform(df_1))\n",
        "plt.plot(trainPredictPlot)\n",
        "plt.plot(testPredictPlot)\n",
        "plt.show()"
      ],
      "execution_count": 21,
      "outputs": [
        {
          "output_type": "display_data",
          "data": {
            "image/png": "[encoded data removed]",
            "text/plain": [
              "<Figure size 432x288 with 1 Axes>"
            ]
          },
          "metadata": {
            "tags": [],
            "needs_background": "light"
          }
        }
      ]
    },
    {
      "cell_type": "code",
      "metadata": {
        "colab": {
          "base_uri": "https://localhost:8080/"
        },
        "id": "D-SYJrbCHEFv",
        "outputId": "0f23490b-c866-4c21-fe2c-17f7caf9a9bd"
      },
      "source": [
        "len(test_data)"
      ],
      "execution_count": 22,
      "outputs": [
        {
          "output_type": "execute_result",
          "data": {
            "text/plain": [
              "441"
            ]
          },
          "metadata": {
            "tags": []
          },
          "execution_count": 22
        }
      ]
    },
    {
      "cell_type": "code",
      "metadata": {
        "colab": {
          "base_uri": "https://localhost:8080/"
        },
        "id": "7crkjTOHG1CN",
        "outputId": "1a87e6a0-1f2d-475b-edb7-ba410fd5a867"
      },
      "source": [
        "\n",
        "x_input=test_data[341:].reshape(1,-1)\n",
        "x_input.shape"
      ],
      "execution_count": 23,
      "outputs": [
        {
          "output_type": "execute_result",
          "data": {
            "text/plain": [
              "(1, 100)"
            ]
          },
          "metadata": {
            "tags": []
          },
          "execution_count": 23
        }
      ]
    },
    {
      "cell_type": "code",
      "metadata": {
        "id": "h_XpIn7iHRqm"
      },
      "source": [
        "temp_input=list(x_input)\n",
        "temp_input=temp_input[0].tolist()"
      ],
      "execution_count": 24,
      "outputs": []
    },
    {
      "cell_type": "code",
      "metadata": {
        "colab": {
          "base_uri": "https://localhost:8080/"
        },
        "id": "15euIkhbHVoG",
        "outputId": "f24e0a7f-9c7e-417a-e280-2aec7dc1b68e"
      },
      "source": [
        "\n",
        "lst_output=[]\n",
        "n_steps=100\n",
        "i=0\n",
        "while(i<30):\n",
        "    \n",
        "    if(len(temp_input)>100):\n",
        "        #print(temp_input)\n",
        "        x_input=np.array(temp_input[1:])\n",
        "        print(\"{} day input {}\".format(i,x_input))\n",
        "        x_input=x_input.reshape(1,-1)\n",
        "        x_input = x_input.reshape((1, n_steps, 1))\n",
        "        #print(x_input)\n",
        "        yhat = model.predict(x_input, verbose=0)\n",
        "        print(\"{} day output {}\".format(i,yhat))\n",
        "        temp_input.extend(yhat[0].tolist())\n",
        "        temp_input=temp_input[1:]\n",
        "        #print(temp_input)\n",
        "        lst_output.extend(yhat.tolist())\n",
        "        i=i+1\n",
        "    else:\n",
        "        x_input = x_input.reshape((1, n_steps,1))\n",
        "        yhat = model.predict(x_input, verbose=0)\n",
        "        print(yhat[0])\n",
        "        temp_input.extend(yhat[0].tolist())\n",
        "        print(len(temp_input))\n",
        "        lst_output.extend(yhat.tolist())\n",
        "        i=i+1\n",
        "    \n",
        "\n",
        "print(lst_output)"
      ],
      "execution_count": 25,
      "outputs": [
        {
          "output_type": "stream",
          "text": [
            "[0.98598486]\n",
            "101\n",
            "1 day input [0.8846219  0.88453722 0.8819121  0.88589212 0.90088026 0.9262427\n",
            " 0.93572699 0.95435685 0.95647388 0.94770937 0.94855619 0.96142772\n",
            " 0.96261326 0.9667203  0.96489965 0.98086205 0.93191633 0.95998814\n",
            " 1.         0.98407994 0.97810992 0.93919892 0.96523838 0.98691676\n",
            " 0.98886443 0.98115844 0.97332543 0.98327547 0.99733254 0.99309848\n",
            " 0.99208231 0.96570412 0.98611229 0.98645101 0.96866797 0.89977983\n",
            " 0.89279363 0.87310526 0.82280464 0.79066813 0.88817851 0.8990177\n",
            " 0.89647726 0.88017614 0.8432128  0.78931324 0.82466763 0.80256584\n",
            " 0.7550597  0.79706156 0.70882378 0.70259971 0.67037852 0.68240325\n",
            " 0.67812685 0.57934499 0.66059785 0.70530951 0.70713015 0.69523245\n",
            " 0.69375053 0.72326192 0.66495893 0.64984334 0.65217207 0.72588704\n",
            " 0.7622576  0.74392413 0.75535608 0.77072572 0.83233127 0.82420188\n",
            " 0.83210898 0.82680583 0.80451351 0.78575663 0.78850876 0.80480989\n",
            " 0.8101448  0.81662291 0.82208485 0.83834364 0.85892116 0.8778474\n",
            " 0.85536455 0.88631552 0.89579981 0.90397155 0.92590397 0.95427217\n",
            " 0.96544161 0.9496147  0.9235329  0.91553053 0.95194343 0.96049623\n",
            " 0.96473029 0.97053095 0.96350241 0.98598486]\n",
            "1 day output [[0.9913997]]\n",
            "2 day input [0.88453722 0.8819121  0.88589212 0.90088026 0.9262427  0.93572699\n",
            " 0.95435685 0.95647388 0.94770937 0.94855619 0.96142772 0.96261326\n",
            " 0.9667203  0.96489965 0.98086205 0.93191633 0.95998814 1.\n",
            " 0.98407994 0.97810992 0.93919892 0.96523838 0.98691676 0.98886443\n",
            " 0.98115844 0.97332543 0.98327547 0.99733254 0.99309848 0.99208231\n",
            " 0.96570412 0.98611229 0.98645101 0.96866797 0.89977983 0.89279363\n",
            " 0.87310526 0.82280464 0.79066813 0.88817851 0.8990177  0.89647726\n",
            " 0.88017614 0.8432128  0.78931324 0.82466763 0.80256584 0.7550597\n",
            " 0.79706156 0.70882378 0.70259971 0.67037852 0.68240325 0.67812685\n",
            " 0.57934499 0.66059785 0.70530951 0.70713015 0.69523245 0.69375053\n",
            " 0.72326192 0.66495893 0.64984334 0.65217207 0.72588704 0.7622576\n",
            " 0.74392413 0.75535608 0.77072572 0.83233127 0.82420188 0.83210898\n",
            " 0.82680583 0.80451351 0.78575663 0.78850876 0.80480989 0.8101448\n",
            " 0.81662291 0.82208485 0.83834364 0.85892116 0.8778474  0.85536455\n",
            " 0.88631552 0.89579981 0.90397155 0.92590397 0.95427217 0.96544161\n",
            " 0.9496147  0.9235329  0.91553053 0.95194343 0.96049623 0.96473029\n",
            " 0.97053095 0.96350241 0.98598486 0.99139971]\n",
            "2 day output [[0.9993198]]\n",
            "3 day input [0.8819121  0.88589212 0.90088026 0.9262427  0.93572699 0.95435685\n",
            " 0.95647388 0.94770937 0.94855619 0.96142772 0.96261326 0.9667203\n",
            " 0.96489965 0.98086205 0.93191633 0.95998814 1.         0.98407994\n",
            " 0.97810992 0.93919892 0.96523838 0.98691676 0.98886443 0.98115844\n",
            " 0.97332543 0.98327547 0.99733254 0.99309848 0.99208231 0.96570412\n",
            " 0.98611229 0.98645101 0.96866797 0.89977983 0.89279363 0.87310526\n",
            " 0.82280464 0.79066813 0.88817851 0.8990177  0.89647726 0.88017614\n",
            " 0.8432128  0.78931324 0.82466763 0.80256584 0.7550597  0.79706156\n",
            " 0.70882378 0.70259971 0.67037852 0.68240325 0.67812685 0.57934499\n",
            " 0.66059785 0.70530951 0.70713015 0.69523245 0.69375053 0.72326192\n",
            " 0.66495893 0.64984334 0.65217207 0.72588704 0.7622576  0.74392413\n",
            " 0.75535608 0.77072572 0.83233127 0.82420188 0.83210898 0.82680583\n",
            " 0.80451351 0.78575663 0.78850876 0.80480989 0.8101448  0.81662291\n",
            " 0.82208485 0.83834364 0.85892116 0.8778474  0.85536455 0.88631552\n",
            " 0.89579981 0.90397155 0.92590397 0.95427217 0.96544161 0.9496147\n",
            " 0.9235329  0.91553053 0.95194343 0.96049623 0.96473029 0.97053095\n",
            " 0.96350241 0.98598486 0.99139971 0.99931979]\n",
            "3 day output [[1.0077553]]\n",
            "4 day input [0.88589212 0.90088026 0.9262427  0.93572699 0.95435685 0.95647388\n",
            " 0.94770937 0.94855619 0.96142772 0.96261326 0.9667203  0.96489965\n",
            " 0.98086205 0.93191633 0.95998814 1.         0.98407994 0.97810992\n",
            " 0.93919892 0.96523838 0.98691676 0.98886443 0.98115844 0.97332543\n",
            " 0.98327547 0.99733254 0.99309848 0.99208231 0.96570412 0.98611229\n",
            " 0.98645101 0.96866797 0.89977983 0.89279363 0.87310526 0.82280464\n",
            " 0.79066813 0.88817851 0.8990177  0.89647726 0.88017614 0.8432128\n",
            " 0.78931324 0.82466763 0.80256584 0.7550597  0.79706156 0.70882378\n",
            " 0.70259971 0.67037852 0.68240325 0.67812685 0.57934499 0.66059785\n",
            " 0.70530951 0.70713015 0.69523245 0.69375053 0.72326192 0.66495893\n",
            " 0.64984334 0.65217207 0.72588704 0.7622576  0.74392413 0.75535608\n",
            " 0.77072572 0.83233127 0.82420188 0.83210898 0.82680583 0.80451351\n",
            " 0.78575663 0.78850876 0.80480989 0.8101448  0.81662291 0.82208485\n",
            " 0.83834364 0.85892116 0.8778474  0.85536455 0.88631552 0.89579981\n",
            " 0.90397155 0.92590397 0.95427217 0.96544161 0.9496147  0.9235329\n",
            " 0.91553053 0.95194343 0.96049623 0.96473029 0.97053095 0.96350241\n",
            " 0.98598486 0.99139971 0.99931979 1.00775528]\n",
            "4 day output [[1.0160283]]\n",
            "5 day input [0.90088026 0.9262427  0.93572699 0.95435685 0.95647388 0.94770937\n",
            " 0.94855619 0.96142772 0.96261326 0.9667203  0.96489965 0.98086205\n",
            " 0.93191633 0.95998814 1.         0.98407994 0.97810992 0.93919892\n",
            " 0.96523838 0.98691676 0.98886443 0.98115844 0.97332543 0.98327547\n",
            " 0.99733254 0.99309848 0.99208231 0.96570412 0.98611229 0.98645101\n",
            " 0.96866797 0.89977983 0.89279363 0.87310526 0.82280464 0.79066813\n",
            " 0.88817851 0.8990177  0.89647726 0.88017614 0.8432128  0.78931324\n",
            " 0.82466763 0.80256584 0.7550597  0.79706156 0.70882378 0.70259971\n",
            " 0.67037852 0.68240325 0.67812685 0.57934499 0.66059785 0.70530951\n",
            " 0.70713015 0.69523245 0.69375053 0.72326192 0.66495893 0.64984334\n",
            " 0.65217207 0.72588704 0.7622576  0.74392413 0.75535608 0.77072572\n",
            " 0.83233127 0.82420188 0.83210898 0.82680583 0.80451351 0.78575663\n",
            " 0.78850876 0.80480989 0.8101448  0.81662291 0.82208485 0.83834364\n",
            " 0.85892116 0.8778474  0.85536455 0.88631552 0.89579981 0.90397155\n",
            " 0.92590397 0.95427217 0.96544161 0.9496147  0.9235329  0.91553053\n",
            " 0.95194343 0.96049623 0.96473029 0.97053095 0.96350241 0.98598486\n",
            " 0.99139971 0.99931979 1.00775528 1.01602829]\n",
            "5 day output [[1.0241525]]\n",
            "6 day input [0.9262427  0.93572699 0.95435685 0.95647388 0.94770937 0.94855619\n",
            " 0.96142772 0.96261326 0.9667203  0.96489965 0.98086205 0.93191633\n",
            " 0.95998814 1.         0.98407994 0.97810992 0.93919892 0.96523838\n",
            " 0.98691676 0.98886443 0.98115844 0.97332543 0.98327547 0.99733254\n",
            " 0.99309848 0.99208231 0.96570412 0.98611229 0.98645101 0.96866797\n",
            " 0.89977983 0.89279363 0.87310526 0.82280464 0.79066813 0.88817851\n",
            " 0.8990177  0.89647726 0.88017614 0.8432128  0.78931324 0.82466763\n",
            " 0.80256584 0.7550597  0.79706156 0.70882378 0.70259971 0.67037852\n",
            " 0.68240325 0.67812685 0.57934499 0.66059785 0.70530951 0.70713015\n",
            " 0.69523245 0.69375053 0.72326192 0.66495893 0.64984334 0.65217207\n",
            " 0.72588704 0.7622576  0.74392413 0.75535608 0.77072572 0.83233127\n",
            " 0.82420188 0.83210898 0.82680583 0.80451351 0.78575663 0.78850876\n",
            " 0.80480989 0.8101448  0.81662291 0.82208485 0.83834364 0.85892116\n",
            " 0.8778474  0.85536455 0.88631552 0.89579981 0.90397155 0.92590397\n",
            " 0.95427217 0.96544161 0.9496147  0.9235329  0.91553053 0.95194343\n",
            " 0.96049623 0.96473029 0.97053095 0.96350241 0.98598486 0.99139971\n",
            " 0.99931979 1.00775528 1.01602829 1.02415252]\n",
            "6 day output [[1.0323268]]\n",
            "7 day input [0.93572699 0.95435685 0.95647388 0.94770937 0.94855619 0.96142772\n",
            " 0.96261326 0.9667203  0.96489965 0.98086205 0.93191633 0.95998814\n",
            " 1.         0.98407994 0.97810992 0.93919892 0.96523838 0.98691676\n",
            " 0.98886443 0.98115844 0.97332543 0.98327547 0.99733254 0.99309848\n",
            " 0.99208231 0.96570412 0.98611229 0.98645101 0.96866797 0.89977983\n",
            " 0.89279363 0.87310526 0.82280464 0.79066813 0.88817851 0.8990177\n",
            " 0.89647726 0.88017614 0.8432128  0.78931324 0.82466763 0.80256584\n",
            " 0.7550597  0.79706156 0.70882378 0.70259971 0.67037852 0.68240325\n",
            " 0.67812685 0.57934499 0.66059785 0.70530951 0.70713015 0.69523245\n",
            " 0.69375053 0.72326192 0.66495893 0.64984334 0.65217207 0.72588704\n",
            " 0.7622576  0.74392413 0.75535608 0.77072572 0.83233127 0.82420188\n",
            " 0.83210898 0.82680583 0.80451351 0.78575663 0.78850876 0.80480989\n",
            " 0.8101448  0.81662291 0.82208485 0.83834364 0.85892116 0.8778474\n",
            " 0.85536455 0.88631552 0.89579981 0.90397155 0.92590397 0.95427217\n",
            " 0.96544161 0.9496147  0.9235329  0.91553053 0.95194343 0.96049623\n",
            " 0.96473029 0.97053095 0.96350241 0.98598486 0.99139971 0.99931979\n",
            " 1.00775528 1.01602829 1.02415252 1.03232682]\n",
            "7 day output [[1.0407634]]\n",
            "8 day input [0.95435685 0.95647388 0.94770937 0.94855619 0.96142772 0.96261326\n",
            " 0.9667203  0.96489965 0.98086205 0.93191633 0.95998814 1.\n",
            " 0.98407994 0.97810992 0.93919892 0.96523838 0.98691676 0.98886443\n",
            " 0.98115844 0.97332543 0.98327547 0.99733254 0.99309848 0.99208231\n",
            " 0.96570412 0.98611229 0.98645101 0.96866797 0.89977983 0.89279363\n",
            " 0.87310526 0.82280464 0.79066813 0.88817851 0.8990177  0.89647726\n",
            " 0.88017614 0.8432128  0.78931324 0.82466763 0.80256584 0.7550597\n",
            " 0.79706156 0.70882378 0.70259971 0.67037852 0.68240325 0.67812685\n",
            " 0.57934499 0.66059785 0.70530951 0.70713015 0.69523245 0.69375053\n",
            " 0.72326192 0.66495893 0.64984334 0.65217207 0.72588704 0.7622576\n",
            " 0.74392413 0.75535608 0.77072572 0.83233127 0.82420188 0.83210898\n",
            " 0.82680583 0.80451351 0.78575663 0.78850876 0.80480989 0.8101448\n",
            " 0.81662291 0.82208485 0.83834364 0.85892116 0.8778474  0.85536455\n",
            " 0.88631552 0.89579981 0.90397155 0.92590397 0.95427217 0.96544161\n",
            " 0.9496147  0.9235329  0.91553053 0.95194343 0.96049623 0.96473029\n",
            " 0.97053095 0.96350241 0.98598486 0.99139971 0.99931979 1.00775528\n",
            " 1.01602829 1.02415252 1.03232682 1.04076338]\n",
            "8 day output [[1.0496238]]\n",
            "9 day input [0.95647388 0.94770937 0.94855619 0.96142772 0.96261326 0.9667203\n",
            " 0.96489965 0.98086205 0.93191633 0.95998814 1.         0.98407994\n",
            " 0.97810992 0.93919892 0.96523838 0.98691676 0.98886443 0.98115844\n",
            " 0.97332543 0.98327547 0.99733254 0.99309848 0.99208231 0.96570412\n",
            " 0.98611229 0.98645101 0.96866797 0.89977983 0.89279363 0.87310526\n",
            " 0.82280464 0.79066813 0.88817851 0.8990177  0.89647726 0.88017614\n",
            " 0.8432128  0.78931324 0.82466763 0.80256584 0.7550597  0.79706156\n",
            " 0.70882378 0.70259971 0.67037852 0.68240325 0.67812685 0.57934499\n",
            " 0.66059785 0.70530951 0.70713015 0.69523245 0.69375053 0.72326192\n",
            " 0.66495893 0.64984334 0.65217207 0.72588704 0.7622576  0.74392413\n",
            " 0.75535608 0.77072572 0.83233127 0.82420188 0.83210898 0.82680583\n",
            " 0.80451351 0.78575663 0.78850876 0.80480989 0.8101448  0.81662291\n",
            " 0.82208485 0.83834364 0.85892116 0.8778474  0.85536455 0.88631552\n",
            " 0.89579981 0.90397155 0.92590397 0.95427217 0.96544161 0.9496147\n",
            " 0.9235329  0.91553053 0.95194343 0.96049623 0.96473029 0.97053095\n",
            " 0.96350241 0.98598486 0.99139971 0.99931979 1.00775528 1.01602829\n",
            " 1.02415252 1.03232682 1.04076338 1.04962385]\n",
            "9 day output [[1.059042]]\n",
            "10 day input [0.94770937 0.94855619 0.96142772 0.96261326 0.9667203  0.96489965\n",
            " 0.98086205 0.93191633 0.95998814 1.         0.98407994 0.97810992\n",
            " 0.93919892 0.96523838 0.98691676 0.98886443 0.98115844 0.97332543\n",
            " 0.98327547 0.99733254 0.99309848 0.99208231 0.96570412 0.98611229\n",
            " 0.98645101 0.96866797 0.89977983 0.89279363 0.87310526 0.82280464\n",
            " 0.79066813 0.88817851 0.8990177  0.89647726 0.88017614 0.8432128\n",
            " 0.78931324 0.82466763 0.80256584 0.7550597  0.79706156 0.70882378\n",
            " 0.70259971 0.67037852 0.68240325 0.67812685 0.57934499 0.66059785\n",
            " 0.70530951 0.70713015 0.69523245 0.69375053 0.72326192 0.66495893\n",
            " 0.64984334 0.65217207 0.72588704 0.7622576  0.74392413 0.75535608\n",
            " 0.77072572 0.83233127 0.82420188 0.83210898 0.82680583 0.80451351\n",
            " 0.78575663 0.78850876 0.80480989 0.8101448  0.81662291 0.82208485\n",
            " 0.83834364 0.85892116 0.8778474  0.85536455 0.88631552 0.89579981\n",
            " 0.90397155 0.92590397 0.95427217 0.96544161 0.9496147  0.9235329\n",
            " 0.91553053 0.95194343 0.96049623 0.96473029 0.97053095 0.96350241\n",
            " 0.98598486 0.99139971 0.99931979 1.00775528 1.01602829 1.02415252\n",
            " 1.03232682 1.04076338 1.04962385 1.05904198]\n",
            "10 day output [[1.0690763]]\n",
            "11 day input [0.94855619 0.96142772 0.96261326 0.9667203  0.96489965 0.98086205\n",
            " 0.93191633 0.95998814 1.         0.98407994 0.97810992 0.93919892\n",
            " 0.96523838 0.98691676 0.98886443 0.98115844 0.97332543 0.98327547\n",
            " 0.99733254 0.99309848 0.99208231 0.96570412 0.98611229 0.98645101\n",
            " 0.96866797 0.89977983 0.89279363 0.87310526 0.82280464 0.79066813\n",
            " 0.88817851 0.8990177  0.89647726 0.88017614 0.8432128  0.78931324\n",
            " 0.82466763 0.80256584 0.7550597  0.79706156 0.70882378 0.70259971\n",
            " 0.67037852 0.68240325 0.67812685 0.57934499 0.66059785 0.70530951\n",
            " 0.70713015 0.69523245 0.69375053 0.72326192 0.66495893 0.64984334\n",
            " 0.65217207 0.72588704 0.7622576  0.74392413 0.75535608 0.77072572\n",
            " 0.83233127 0.82420188 0.83210898 0.82680583 0.80451351 0.78575663\n",
            " 0.78850876 0.80480989 0.8101448  0.81662291 0.82208485 0.83834364\n",
            " 0.85892116 0.8778474  0.85536455 0.88631552 0.89579981 0.90397155\n",
            " 0.92590397 0.95427217 0.96544161 0.9496147  0.9235329  0.91553053\n",
            " 0.95194343 0.96049623 0.96473029 0.97053095 0.96350241 0.98598486\n",
            " 0.99139971 0.99931979 1.00775528 1.01602829 1.02415252 1.03232682\n",
            " 1.04076338 1.04962385 1.05904198 1.0690763 ]\n",
            "11 day output [[1.0797306]]\n",
            "12 day input [0.96142772 0.96261326 0.9667203  0.96489965 0.98086205 0.93191633\n",
            " 0.95998814 1.         0.98407994 0.97810992 0.93919892 0.96523838\n",
            " 0.98691676 0.98886443 0.98115844 0.97332543 0.98327547 0.99733254\n",
            " 0.99309848 0.99208231 0.96570412 0.98611229 0.98645101 0.96866797\n",
            " 0.89977983 0.89279363 0.87310526 0.82280464 0.79066813 0.88817851\n",
            " 0.8990177  0.89647726 0.88017614 0.8432128  0.78931324 0.82466763\n",
            " 0.80256584 0.7550597  0.79706156 0.70882378 0.70259971 0.67037852\n",
            " 0.68240325 0.67812685 0.57934499 0.66059785 0.70530951 0.70713015\n",
            " 0.69523245 0.69375053 0.72326192 0.66495893 0.64984334 0.65217207\n",
            " 0.72588704 0.7622576  0.74392413 0.75535608 0.77072572 0.83233127\n",
            " 0.82420188 0.83210898 0.82680583 0.80451351 0.78575663 0.78850876\n",
            " 0.80480989 0.8101448  0.81662291 0.82208485 0.83834364 0.85892116\n",
            " 0.8778474  0.85536455 0.88631552 0.89579981 0.90397155 0.92590397\n",
            " 0.95427217 0.96544161 0.9496147  0.9235329  0.91553053 0.95194343\n",
            " 0.96049623 0.96473029 0.97053095 0.96350241 0.98598486 0.99139971\n",
            " 0.99931979 1.00775528 1.01602829 1.02415252 1.03232682 1.04076338\n",
            " 1.04962385 1.05904198 1.0690763  1.07973063]\n",
            "12 day output [[1.0909667]]\n",
            "13 day input [0.96261326 0.9667203  0.96489965 0.98086205 0.93191633 0.95998814\n",
            " 1.         0.98407994 0.97810992 0.93919892 0.96523838 0.98691676\n",
            " 0.98886443 0.98115844 0.97332543 0.98327547 0.99733254 0.99309848\n",
            " 0.99208231 0.96570412 0.98611229 0.98645101 0.96866797 0.89977983\n",
            " 0.89279363 0.87310526 0.82280464 0.79066813 0.88817851 0.8990177\n",
            " 0.89647726 0.88017614 0.8432128  0.78931324 0.82466763 0.80256584\n",
            " 0.7550597  0.79706156 0.70882378 0.70259971 0.67037852 0.68240325\n",
            " 0.67812685 0.57934499 0.66059785 0.70530951 0.70713015 0.69523245\n",
            " 0.69375053 0.72326192 0.66495893 0.64984334 0.65217207 0.72588704\n",
            " 0.7622576  0.74392413 0.75535608 0.77072572 0.83233127 0.82420188\n",
            " 0.83210898 0.82680583 0.80451351 0.78575663 0.78850876 0.80480989\n",
            " 0.8101448  0.81662291 0.82208485 0.83834364 0.85892116 0.8778474\n",
            " 0.85536455 0.88631552 0.89579981 0.90397155 0.92590397 0.95427217\n",
            " 0.96544161 0.9496147  0.9235329  0.91553053 0.95194343 0.96049623\n",
            " 0.96473029 0.97053095 0.96350241 0.98598486 0.99139971 0.99931979\n",
            " 1.00775528 1.01602829 1.02415252 1.03232682 1.04076338 1.04962385\n",
            " 1.05904198 1.0690763  1.07973063 1.0909667 ]\n",
            "13 day output [[1.1027118]]\n",
            "14 day input [0.9667203  0.96489965 0.98086205 0.93191633 0.95998814 1.\n",
            " 0.98407994 0.97810992 0.93919892 0.96523838 0.98691676 0.98886443\n",
            " 0.98115844 0.97332543 0.98327547 0.99733254 0.99309848 0.99208231\n",
            " 0.96570412 0.98611229 0.98645101 0.96866797 0.89977983 0.89279363\n",
            " 0.87310526 0.82280464 0.79066813 0.88817851 0.8990177  0.89647726\n",
            " 0.88017614 0.8432128  0.78931324 0.82466763 0.80256584 0.7550597\n",
            " 0.79706156 0.70882378 0.70259971 0.67037852 0.68240325 0.67812685\n",
            " 0.57934499 0.66059785 0.70530951 0.70713015 0.69523245 0.69375053\n",
            " 0.72326192 0.66495893 0.64984334 0.65217207 0.72588704 0.7622576\n",
            " 0.74392413 0.75535608 0.77072572 0.83233127 0.82420188 0.83210898\n",
            " 0.82680583 0.80451351 0.78575663 0.78850876 0.80480989 0.8101448\n",
            " 0.81662291 0.82208485 0.83834364 0.85892116 0.8778474  0.85536455\n",
            " 0.88631552 0.89579981 0.90397155 0.92590397 0.95427217 0.96544161\n",
            " 0.9496147  0.9235329  0.91553053 0.95194343 0.96049623 0.96473029\n",
            " 0.97053095 0.96350241 0.98598486 0.99139971 0.99931979 1.00775528\n",
            " 1.01602829 1.02415252 1.03232682 1.04076338 1.04962385 1.05904198\n",
            " 1.0690763  1.07973063 1.0909667  1.1027118 ]\n",
            "14 day output [[1.1148578]]\n",
            "15 day input [0.96489965 0.98086205 0.93191633 0.95998814 1.         0.98407994\n",
            " 0.97810992 0.93919892 0.96523838 0.98691676 0.98886443 0.98115844\n",
            " 0.97332543 0.98327547 0.99733254 0.99309848 0.99208231 0.96570412\n",
            " 0.98611229 0.98645101 0.96866797 0.89977983 0.89279363 0.87310526\n",
            " 0.82280464 0.79066813 0.88817851 0.8990177  0.89647726 0.88017614\n",
            " 0.8432128  0.78931324 0.82466763 0.80256584 0.7550597  0.79706156\n",
            " 0.70882378 0.70259971 0.67037852 0.68240325 0.67812685 0.57934499\n",
            " 0.66059785 0.70530951 0.70713015 0.69523245 0.69375053 0.72326192\n",
            " 0.66495893 0.64984334 0.65217207 0.72588704 0.7622576  0.74392413\n",
            " 0.75535608 0.77072572 0.83233127 0.82420188 0.83210898 0.82680583\n",
            " 0.80451351 0.78575663 0.78850876 0.80480989 0.8101448  0.81662291\n",
            " 0.82208485 0.83834364 0.85892116 0.8778474  0.85536455 0.88631552\n",
            " 0.89579981 0.90397155 0.92590397 0.95427217 0.96544161 0.9496147\n",
            " 0.9235329  0.91553053 0.95194343 0.96049623 0.96473029 0.97053095\n",
            " 0.96350241 0.98598486 0.99139971 0.99931979 1.00775528 1.01602829\n",
            " 1.02415252 1.03232682 1.04076338 1.04962385 1.05904198 1.0690763\n",
            " 1.07973063 1.0909667  1.1027118  1.11485779]\n",
            "15 day output [[1.1273011]]\n",
            "16 day input [0.98086205 0.93191633 0.95998814 1.         0.98407994 0.97810992\n",
            " 0.93919892 0.96523838 0.98691676 0.98886443 0.98115844 0.97332543\n",
            " 0.98327547 0.99733254 0.99309848 0.99208231 0.96570412 0.98611229\n",
            " 0.98645101 0.96866797 0.89977983 0.89279363 0.87310526 0.82280464\n",
            " 0.79066813 0.88817851 0.8990177  0.89647726 0.88017614 0.8432128\n",
            " 0.78931324 0.82466763 0.80256584 0.7550597  0.79706156 0.70882378\n",
            " 0.70259971 0.67037852 0.68240325 0.67812685 0.57934499 0.66059785\n",
            " 0.70530951 0.70713015 0.69523245 0.69375053 0.72326192 0.66495893\n",
            " 0.64984334 0.65217207 0.72588704 0.7622576  0.74392413 0.75535608\n",
            " 0.77072572 0.83233127 0.82420188 0.83210898 0.82680583 0.80451351\n",
            " 0.78575663 0.78850876 0.80480989 0.8101448  0.81662291 0.82208485\n",
            " 0.83834364 0.85892116 0.8778474  0.85536455 0.88631552 0.89579981\n",
            " 0.90397155 0.92590397 0.95427217 0.96544161 0.9496147  0.9235329\n",
            " 0.91553053 0.95194343 0.96049623 0.96473029 0.97053095 0.96350241\n",
            " 0.98598486 0.99139971 0.99931979 1.00775528 1.01602829 1.02415252\n",
            " 1.03232682 1.04076338 1.04962385 1.05904198 1.0690763  1.07973063\n",
            " 1.0909667  1.1027118  1.11485779 1.1273011 ]\n",
            "16 day output [[1.1399393]]\n",
            "17 day input [0.93191633 0.95998814 1.         0.98407994 0.97810992 0.93919892\n",
            " 0.96523838 0.98691676 0.98886443 0.98115844 0.97332543 0.98327547\n",
            " 0.99733254 0.99309848 0.99208231 0.96570412 0.98611229 0.98645101\n",
            " 0.96866797 0.89977983 0.89279363 0.87310526 0.82280464 0.79066813\n",
            " 0.88817851 0.8990177  0.89647726 0.88017614 0.8432128  0.78931324\n",
            " 0.82466763 0.80256584 0.7550597  0.79706156 0.70882378 0.70259971\n",
            " 0.67037852 0.68240325 0.67812685 0.57934499 0.66059785 0.70530951\n",
            " 0.70713015 0.69523245 0.69375053 0.72326192 0.66495893 0.64984334\n",
            " 0.65217207 0.72588704 0.7622576  0.74392413 0.75535608 0.77072572\n",
            " 0.83233127 0.82420188 0.83210898 0.82680583 0.80451351 0.78575663\n",
            " 0.78850876 0.80480989 0.8101448  0.81662291 0.82208485 0.83834364\n",
            " 0.85892116 0.8778474  0.85536455 0.88631552 0.89579981 0.90397155\n",
            " 0.92590397 0.95427217 0.96544161 0.9496147  0.9235329  0.91553053\n",
            " 0.95194343 0.96049623 0.96473029 0.97053095 0.96350241 0.98598486\n",
            " 0.99139971 0.99931979 1.00775528 1.01602829 1.02415252 1.03232682\n",
            " 1.04076338 1.04962385 1.05904198 1.0690763  1.07973063 1.0909667\n",
            " 1.1027118  1.11485779 1.1273011  1.13993931]\n",
            "17 day output [[1.1526965]]\n",
            "18 day input [0.95998814 1.         0.98407994 0.97810992 0.93919892 0.96523838\n",
            " 0.98691676 0.98886443 0.98115844 0.97332543 0.98327547 0.99733254\n",
            " 0.99309848 0.99208231 0.96570412 0.98611229 0.98645101 0.96866797\n",
            " 0.89977983 0.89279363 0.87310526 0.82280464 0.79066813 0.88817851\n",
            " 0.8990177  0.89647726 0.88017614 0.8432128  0.78931324 0.82466763\n",
            " 0.80256584 0.7550597  0.79706156 0.70882378 0.70259971 0.67037852\n",
            " 0.68240325 0.67812685 0.57934499 0.66059785 0.70530951 0.70713015\n",
            " 0.69523245 0.69375053 0.72326192 0.66495893 0.64984334 0.65217207\n",
            " 0.72588704 0.7622576  0.74392413 0.75535608 0.77072572 0.83233127\n",
            " 0.82420188 0.83210898 0.82680583 0.80451351 0.78575663 0.78850876\n",
            " 0.80480989 0.8101448  0.81662291 0.82208485 0.83834364 0.85892116\n",
            " 0.8778474  0.85536455 0.88631552 0.89579981 0.90397155 0.92590397\n",
            " 0.95427217 0.96544161 0.9496147  0.9235329  0.91553053 0.95194343\n",
            " 0.96049623 0.96473029 0.97053095 0.96350241 0.98598486 0.99139971\n",
            " 0.99931979 1.00775528 1.01602829 1.02415252 1.03232682 1.04076338\n",
            " 1.04962385 1.05904198 1.0690763  1.07973063 1.0909667  1.1027118\n",
            " 1.11485779 1.1273011  1.13993931 1.15269649]\n",
            "18 day output [[1.165481]]\n",
            "19 day input [1.         0.98407994 0.97810992 0.93919892 0.96523838 0.98691676\n",
            " 0.98886443 0.98115844 0.97332543 0.98327547 0.99733254 0.99309848\n",
            " 0.99208231 0.96570412 0.98611229 0.98645101 0.96866797 0.89977983\n",
            " 0.89279363 0.87310526 0.82280464 0.79066813 0.88817851 0.8990177\n",
            " 0.89647726 0.88017614 0.8432128  0.78931324 0.82466763 0.80256584\n",
            " 0.7550597  0.79706156 0.70882378 0.70259971 0.67037852 0.68240325\n",
            " 0.67812685 0.57934499 0.66059785 0.70530951 0.70713015 0.69523245\n",
            " 0.69375053 0.72326192 0.66495893 0.64984334 0.65217207 0.72588704\n",
            " 0.7622576  0.74392413 0.75535608 0.77072572 0.83233127 0.82420188\n",
            " 0.83210898 0.82680583 0.80451351 0.78575663 0.78850876 0.80480989\n",
            " 0.8101448  0.81662291 0.82208485 0.83834364 0.85892116 0.8778474\n",
            " 0.85536455 0.88631552 0.89579981 0.90397155 0.92590397 0.95427217\n",
            " 0.96544161 0.9496147  0.9235329  0.91553053 0.95194343 0.96049623\n",
            " 0.96473029 0.97053095 0.96350241 0.98598486 0.99139971 0.99931979\n",
            " 1.00775528 1.01602829 1.02415252 1.03232682 1.04076338 1.04962385\n",
            " 1.05904198 1.0690763  1.07973063 1.0909667  1.1027118  1.11485779\n",
            " 1.1273011  1.13993931 1.15269649 1.16548097]\n",
            "19 day output [[1.1782789]]\n",
            "20 day input [0.98407994 0.97810992 0.93919892 0.96523838 0.98691676 0.98886443\n",
            " 0.98115844 0.97332543 0.98327547 0.99733254 0.99309848 0.99208231\n",
            " 0.96570412 0.98611229 0.98645101 0.96866797 0.89977983 0.89279363\n",
            " 0.87310526 0.82280464 0.79066813 0.88817851 0.8990177  0.89647726\n",
            " 0.88017614 0.8432128  0.78931324 0.82466763 0.80256584 0.7550597\n",
            " 0.79706156 0.70882378 0.70259971 0.67037852 0.68240325 0.67812685\n",
            " 0.57934499 0.66059785 0.70530951 0.70713015 0.69523245 0.69375053\n",
            " 0.72326192 0.66495893 0.64984334 0.65217207 0.72588704 0.7622576\n",
            " 0.74392413 0.75535608 0.77072572 0.83233127 0.82420188 0.83210898\n",
            " 0.82680583 0.80451351 0.78575663 0.78850876 0.80480989 0.8101448\n",
            " 0.81662291 0.82208485 0.83834364 0.85892116 0.8778474  0.85536455\n",
            " 0.88631552 0.89579981 0.90397155 0.92590397 0.95427217 0.96544161\n",
            " 0.9496147  0.9235329  0.91553053 0.95194343 0.96049623 0.96473029\n",
            " 0.97053095 0.96350241 0.98598486 0.99139971 0.99931979 1.00775528\n",
            " 1.01602829 1.02415252 1.03232682 1.04076338 1.04962385 1.05904198\n",
            " 1.0690763  1.07973063 1.0909667  1.1027118  1.11485779 1.1273011\n",
            " 1.13993931 1.15269649 1.16548097 1.17827892]\n",
            "20 day output [[1.1910647]]\n",
            "21 day input [0.97810992 0.93919892 0.96523838 0.98691676 0.98886443 0.98115844\n",
            " 0.97332543 0.98327547 0.99733254 0.99309848 0.99208231 0.96570412\n",
            " 0.98611229 0.98645101 0.96866797 0.89977983 0.89279363 0.87310526\n",
            " 0.82280464 0.79066813 0.88817851 0.8990177  0.89647726 0.88017614\n",
            " 0.8432128  0.78931324 0.82466763 0.80256584 0.7550597  0.79706156\n",
            " 0.70882378 0.70259971 0.67037852 0.68240325 0.67812685 0.57934499\n",
            " 0.66059785 0.70530951 0.70713015 0.69523245 0.69375053 0.72326192\n",
            " 0.66495893 0.64984334 0.65217207 0.72588704 0.7622576  0.74392413\n",
            " 0.75535608 0.77072572 0.83233127 0.82420188 0.83210898 0.82680583\n",
            " 0.80451351 0.78575663 0.78850876 0.80480989 0.8101448  0.81662291\n",
            " 0.82208485 0.83834364 0.85892116 0.8778474  0.85536455 0.88631552\n",
            " 0.89579981 0.90397155 0.92590397 0.95427217 0.96544161 0.9496147\n",
            " 0.9235329  0.91553053 0.95194343 0.96049623 0.96473029 0.97053095\n",
            " 0.96350241 0.98598486 0.99139971 0.99931979 1.00775528 1.01602829\n",
            " 1.02415252 1.03232682 1.04076338 1.04962385 1.05904198 1.0690763\n",
            " 1.07973063 1.0909667  1.1027118  1.11485779 1.1273011  1.13993931\n",
            " 1.15269649 1.16548097 1.17827892 1.19106472]\n",
            "21 day output [[1.2037978]]\n",
            "22 day input [0.93919892 0.96523838 0.98691676 0.98886443 0.98115844 0.97332543\n",
            " 0.98327547 0.99733254 0.99309848 0.99208231 0.96570412 0.98611229\n",
            " 0.98645101 0.96866797 0.89977983 0.89279363 0.87310526 0.82280464\n",
            " 0.79066813 0.88817851 0.8990177  0.89647726 0.88017614 0.8432128\n",
            " 0.78931324 0.82466763 0.80256584 0.7550597  0.79706156 0.70882378\n",
            " 0.70259971 0.67037852 0.68240325 0.67812685 0.57934499 0.66059785\n",
            " 0.70530951 0.70713015 0.69523245 0.69375053 0.72326192 0.66495893\n",
            " 0.64984334 0.65217207 0.72588704 0.7622576  0.74392413 0.75535608\n",
            " 0.77072572 0.83233127 0.82420188 0.83210898 0.82680583 0.80451351\n",
            " 0.78575663 0.78850876 0.80480989 0.8101448  0.81662291 0.82208485\n",
            " 0.83834364 0.85892116 0.8778474  0.85536455 0.88631552 0.89579981\n",
            " 0.90397155 0.92590397 0.95427217 0.96544161 0.9496147  0.9235329\n",
            " 0.91553053 0.95194343 0.96049623 0.96473029 0.97053095 0.96350241\n",
            " 0.98598486 0.99139971 0.99931979 1.00775528 1.01602829 1.02415252\n",
            " 1.03232682 1.04076338 1.04962385 1.05904198 1.0690763  1.07973063\n",
            " 1.0909667  1.1027118  1.11485779 1.1273011  1.13993931 1.15269649\n",
            " 1.16548097 1.17827892 1.19106472 1.20379782]\n",
            "22 day output [[1.2164649]]\n",
            "23 day input [0.96523838 0.98691676 0.98886443 0.98115844 0.97332543 0.98327547\n",
            " 0.99733254 0.99309848 0.99208231 0.96570412 0.98611229 0.98645101\n",
            " 0.96866797 0.89977983 0.89279363 0.87310526 0.82280464 0.79066813\n",
            " 0.88817851 0.8990177  0.89647726 0.88017614 0.8432128  0.78931324\n",
            " 0.82466763 0.80256584 0.7550597  0.79706156 0.70882378 0.70259971\n",
            " 0.67037852 0.68240325 0.67812685 0.57934499 0.66059785 0.70530951\n",
            " 0.70713015 0.69523245 0.69375053 0.72326192 0.66495893 0.64984334\n",
            " 0.65217207 0.72588704 0.7622576  0.74392413 0.75535608 0.77072572\n",
            " 0.83233127 0.82420188 0.83210898 0.82680583 0.80451351 0.78575663\n",
            " 0.78850876 0.80480989 0.8101448  0.81662291 0.82208485 0.83834364\n",
            " 0.85892116 0.8778474  0.85536455 0.88631552 0.89579981 0.90397155\n",
            " 0.92590397 0.95427217 0.96544161 0.9496147  0.9235329  0.91553053\n",
            " 0.95194343 0.96049623 0.96473029 0.97053095 0.96350241 0.98598486\n",
            " 0.99139971 0.99931979 1.00775528 1.01602829 1.02415252 1.03232682\n",
            " 1.04076338 1.04962385 1.05904198 1.0690763  1.07973063 1.0909667\n",
            " 1.1027118  1.11485779 1.1273011  1.13993931 1.15269649 1.16548097\n",
            " 1.17827892 1.19106472 1.20379782 1.21646488]\n",
            "23 day output [[1.2290306]]\n",
            "24 day input [0.98691676 0.98886443 0.98115844 0.97332543 0.98327547 0.99733254\n",
            " 0.99309848 0.99208231 0.96570412 0.98611229 0.98645101 0.96866797\n",
            " 0.89977983 0.89279363 0.87310526 0.82280464 0.79066813 0.88817851\n",
            " 0.8990177  0.89647726 0.88017614 0.8432128  0.78931324 0.82466763\n",
            " 0.80256584 0.7550597  0.79706156 0.70882378 0.70259971 0.67037852\n",
            " 0.68240325 0.67812685 0.57934499 0.66059785 0.70530951 0.70713015\n",
            " 0.69523245 0.69375053 0.72326192 0.66495893 0.64984334 0.65217207\n",
            " 0.72588704 0.7622576  0.74392413 0.75535608 0.77072572 0.83233127\n",
            " 0.82420188 0.83210898 0.82680583 0.80451351 0.78575663 0.78850876\n",
            " 0.80480989 0.8101448  0.81662291 0.82208485 0.83834364 0.85892116\n",
            " 0.8778474  0.85536455 0.88631552 0.89579981 0.90397155 0.92590397\n",
            " 0.95427217 0.96544161 0.9496147  0.9235329  0.91553053 0.95194343\n",
            " 0.96049623 0.96473029 0.97053095 0.96350241 0.98598486 0.99139971\n",
            " 0.99931979 1.00775528 1.01602829 1.02415252 1.03232682 1.04076338\n",
            " 1.04962385 1.05904198 1.0690763  1.07973063 1.0909667  1.1027118\n",
            " 1.11485779 1.1273011  1.13993931 1.15269649 1.16548097 1.17827892\n",
            " 1.19106472 1.20379782 1.21646488 1.22903061]\n",
            "24 day output [[1.2414932]]\n",
            "25 day input [0.98886443 0.98115844 0.97332543 0.98327547 0.99733254 0.99309848\n",
            " 0.99208231 0.96570412 0.98611229 0.98645101 0.96866797 0.89977983\n",
            " 0.89279363 0.87310526 0.82280464 0.79066813 0.88817851 0.8990177\n",
            " 0.89647726 0.88017614 0.8432128  0.78931324 0.82466763 0.80256584\n",
            " 0.7550597  0.79706156 0.70882378 0.70259971 0.67037852 0.68240325\n",
            " 0.67812685 0.57934499 0.66059785 0.70530951 0.70713015 0.69523245\n",
            " 0.69375053 0.72326192 0.66495893 0.64984334 0.65217207 0.72588704\n",
            " 0.7622576  0.74392413 0.75535608 0.77072572 0.83233127 0.82420188\n",
            " 0.83210898 0.82680583 0.80451351 0.78575663 0.78850876 0.80480989\n",
            " 0.8101448  0.81662291 0.82208485 0.83834364 0.85892116 0.8778474\n",
            " 0.85536455 0.88631552 0.89579981 0.90397155 0.92590397 0.95427217\n",
            " 0.96544161 0.9496147  0.9235329  0.91553053 0.95194343 0.96049623\n",
            " 0.96473029 0.97053095 0.96350241 0.98598486 0.99139971 0.99931979\n",
            " 1.00775528 1.01602829 1.02415252 1.03232682 1.04076338 1.04962385\n",
            " 1.05904198 1.0690763  1.07973063 1.0909667  1.1027118  1.11485779\n",
            " 1.1273011  1.13993931 1.15269649 1.16548097 1.17827892 1.19106472\n",
            " 1.20379782 1.21646488 1.22903061 1.24149323]\n",
            "25 day output [[1.2538234]]\n",
            "26 day input [0.98115844 0.97332543 0.98327547 0.99733254 0.99309848 0.99208231\n",
            " 0.96570412 0.98611229 0.98645101 0.96866797 0.89977983 0.89279363\n",
            " 0.87310526 0.82280464 0.79066813 0.88817851 0.8990177  0.89647726\n",
            " 0.88017614 0.8432128  0.78931324 0.82466763 0.80256584 0.7550597\n",
            " 0.79706156 0.70882378 0.70259971 0.67037852 0.68240325 0.67812685\n",
            " 0.57934499 0.66059785 0.70530951 0.70713015 0.69523245 0.69375053\n",
            " 0.72326192 0.66495893 0.64984334 0.65217207 0.72588704 0.7622576\n",
            " 0.74392413 0.75535608 0.77072572 0.83233127 0.82420188 0.83210898\n",
            " 0.82680583 0.80451351 0.78575663 0.78850876 0.80480989 0.8101448\n",
            " 0.81662291 0.82208485 0.83834364 0.85892116 0.8778474  0.85536455\n",
            " 0.88631552 0.89579981 0.90397155 0.92590397 0.95427217 0.96544161\n",
            " 0.9496147  0.9235329  0.91553053 0.95194343 0.96049623 0.96473029\n",
            " 0.97053095 0.96350241 0.98598486 0.99139971 0.99931979 1.00775528\n",
            " 1.01602829 1.02415252 1.03232682 1.04076338 1.04962385 1.05904198\n",
            " 1.0690763  1.07973063 1.0909667  1.1027118  1.11485779 1.1273011\n",
            " 1.13993931 1.15269649 1.16548097 1.17827892 1.19106472 1.20379782\n",
            " 1.21646488 1.22903061 1.24149323 1.2538234 ]\n",
            "26 day output [[1.265983]]\n",
            "27 day input [0.97332543 0.98327547 0.99733254 0.99309848 0.99208231 0.96570412\n",
            " 0.98611229 0.98645101 0.96866797 0.89977983 0.89279363 0.87310526\n",
            " 0.82280464 0.79066813 0.88817851 0.8990177  0.89647726 0.88017614\n",
            " 0.8432128  0.78931324 0.82466763 0.80256584 0.7550597  0.79706156\n",
            " 0.70882378 0.70259971 0.67037852 0.68240325 0.67812685 0.57934499\n",
            " 0.66059785 0.70530951 0.70713015 0.69523245 0.69375053 0.72326192\n",
            " 0.66495893 0.64984334 0.65217207 0.72588704 0.7622576  0.74392413\n",
            " 0.75535608 0.77072572 0.83233127 0.82420188 0.83210898 0.82680583\n",
            " 0.80451351 0.78575663 0.78850876 0.80480989 0.8101448  0.81662291\n",
            " 0.82208485 0.83834364 0.85892116 0.8778474  0.85536455 0.88631552\n",
            " 0.89579981 0.90397155 0.92590397 0.95427217 0.96544161 0.9496147\n",
            " 0.9235329  0.91553053 0.95194343 0.96049623 0.96473029 0.97053095\n",
            " 0.96350241 0.98598486 0.99139971 0.99931979 1.00775528 1.01602829\n",
            " 1.02415252 1.03232682 1.04076338 1.04962385 1.05904198 1.0690763\n",
            " 1.07973063 1.0909667  1.1027118  1.11485779 1.1273011  1.13993931\n",
            " 1.15269649 1.16548097 1.17827892 1.19106472 1.20379782 1.21646488\n",
            " 1.22903061 1.24149323 1.2538234  1.26598299]\n",
            "27 day output [[1.2779343]]\n",
            "28 day input [0.98327547 0.99733254 0.99309848 0.99208231 0.96570412 0.98611229\n",
            " 0.98645101 0.96866797 0.89977983 0.89279363 0.87310526 0.82280464\n",
            " 0.79066813 0.88817851 0.8990177  0.89647726 0.88017614 0.8432128\n",
            " 0.78931324 0.82466763 0.80256584 0.7550597  0.79706156 0.70882378\n",
            " 0.70259971 0.67037852 0.68240325 0.67812685 0.57934499 0.66059785\n",
            " 0.70530951 0.70713015 0.69523245 0.69375053 0.72326192 0.66495893\n",
            " 0.64984334 0.65217207 0.72588704 0.7622576  0.74392413 0.75535608\n",
            " 0.77072572 0.83233127 0.82420188 0.83210898 0.82680583 0.80451351\n",
            " 0.78575663 0.78850876 0.80480989 0.8101448  0.81662291 0.82208485\n",
            " 0.83834364 0.85892116 0.8778474  0.85536455 0.88631552 0.89579981\n",
            " 0.90397155 0.92590397 0.95427217 0.96544161 0.9496147  0.9235329\n",
            " 0.91553053 0.95194343 0.96049623 0.96473029 0.97053095 0.96350241\n",
            " 0.98598486 0.99139971 0.99931979 1.00775528 1.01602829 1.02415252\n",
            " 1.03232682 1.04076338 1.04962385 1.05904198 1.0690763  1.07973063\n",
            " 1.0909667  1.1027118  1.11485779 1.1273011  1.13993931 1.15269649\n",
            " 1.16548097 1.17827892 1.19106472 1.20379782 1.21646488 1.22903061\n",
            " 1.24149323 1.2538234  1.26598299 1.27793431]\n",
            "28 day output [[1.2896429]]\n",
            "29 day input [0.99733254 0.99309848 0.99208231 0.96570412 0.98611229 0.98645101\n",
            " 0.96866797 0.89977983 0.89279363 0.87310526 0.82280464 0.79066813\n",
            " 0.88817851 0.8990177  0.89647726 0.88017614 0.8432128  0.78931324\n",
            " 0.82466763 0.80256584 0.7550597  0.79706156 0.70882378 0.70259971\n",
            " 0.67037852 0.68240325 0.67812685 0.57934499 0.66059785 0.70530951\n",
            " 0.70713015 0.69523245 0.69375053 0.72326192 0.66495893 0.64984334\n",
            " 0.65217207 0.72588704 0.7622576  0.74392413 0.75535608 0.77072572\n",
            " 0.83233127 0.82420188 0.83210898 0.82680583 0.80451351 0.78575663\n",
            " 0.78850876 0.80480989 0.8101448  0.81662291 0.82208485 0.83834364\n",
            " 0.85892116 0.8778474  0.85536455 0.88631552 0.89579981 0.90397155\n",
            " 0.92590397 0.95427217 0.96544161 0.9496147  0.9235329  0.91553053\n",
            " 0.95194343 0.96049623 0.96473029 0.97053095 0.96350241 0.98598486\n",
            " 0.99139971 0.99931979 1.00775528 1.01602829 1.02415252 1.03232682\n",
            " 1.04076338 1.04962385 1.05904198 1.0690763  1.07973063 1.0909667\n",
            " 1.1027118  1.11485779 1.1273011  1.13993931 1.15269649 1.16548097\n",
            " 1.17827892 1.19106472 1.20379782 1.21646488 1.22903061 1.24149323\n",
            " 1.2538234  1.26598299 1.27793431 1.28964293]\n",
            "29 day output [[1.3010814]]\n",
            "[[0.9859848618507385], [0.9913997054100037], [0.9993197917938232], [1.0077552795410156], [1.0160282850265503], [1.0241525173187256], [1.0323268175125122], [1.0407633781433105], [1.0496238470077515], [1.059041976928711], [1.0690762996673584], [1.0797306299209595], [1.0909667015075684], [1.102711796760559], [1.114857792854309], [1.1273010969161987], [1.139939308166504], [1.1526964902877808], [1.1654809713363647], [1.178278923034668], [1.191064715385437], [1.2037978172302246], [1.216464877128601], [1.2290306091308594], [1.2414932250976562], [1.2538233995437622], [1.265982985496521], [1.2779343128204346], [1.2896429300308228], [1.3010814189910889]]\n"
          ],
          "name": "stdout"
        }
      ]
    },
    {
      "cell_type": "code",
      "metadata": {
        "id": "CIKQ7DveHrZM"
      },
      "source": [
        "day_new=np.arange(1,101)\n",
        "day_pred=np.arange(101,131)"
      ],
      "execution_count": 26,
      "outputs": []
    },
    {
      "cell_type": "code",
      "metadata": {
        "colab": {
          "base_uri": "https://localhost:8080/",
          "height": 281
        },
        "id": "wFeymSrRH4GG",
        "outputId": "c6b02af8-71c0-407f-9f60-e414c32a6218"
      },
      "source": [
        "plt.plot(day_new,scaler.inverse_transform(df_1[1158:]))\n",
        "plt.plot(day_pred,scaler.inverse_transform(lst_output))"
      ],
      "execution_count": 27,
      "outputs": [
        {
          "output_type": "execute_result",
          "data": {
            "text/plain": [
              "[<matplotlib.lines.Line2D at 0x7fa56c941f10>]"
            ]
          },
          "metadata": {
            "tags": []
          },
          "execution_count": 27
        },
        {
          "output_type": "display_data",
          "data": {
            "image/png": "[encoded data removed]",
            "text/plain": [
              "<Figure size 432x288 with 1 Axes>"
            ]
          },
          "metadata": {
            "tags": [],
            "needs_background": "light"
          }
        }
      ]
    },
    {
      "cell_type": "code",
      "metadata": {
        "colab": {
          "base_uri": "https://localhost:8080/",
          "height": 281
        },
        "id": "aP8aIyAvIGmL",
        "outputId": "b5a415d9-6e78-4fd8-a357-03770a10fcbc"
      },
      "source": [
        "df_2=df_1.tolist()\n",
        "df_2.extend(lst_output)\n",
        "plt.plot(df_2[1200:])"
      ],
      "execution_count": 28,
      "outputs": [
        {
          "output_type": "execute_result",
          "data": {
            "text/plain": [
              "[<matplotlib.lines.Line2D at 0x7fa56c8f6150>]"
            ]
          },
          "metadata": {
            "tags": []
          },
          "execution_count": 28
        },
        {
          "output_type": "display_data",
          "data": {
            "image/png": "[encoded data removed]",
            "text/plain": [
              "<Figure size 432x288 with 1 Axes>"
            ]
          },
          "metadata": {
            "tags": [],
            "needs_background": "light"
          }
        }
      ]
    },
    {
      "cell_type": "code",
      "metadata": {
        "colab": {
          "base_uri": "https://localhost:8080/",
          "height": 281
        },
        "id": "2sig-7WSI-gQ",
        "outputId": "cae4327e-2ecf-40e4-efb4-e6894bae4232"
      },
      "source": [
        "df3=scaler.inverse_transform(df_2).tolist()\n",
        "plt.plot(df_2)"
      ],
      "execution_count": 29,
      "outputs": [
        {
          "output_type": "execute_result",
          "data": {
            "text/plain": [
              "[<matplotlib.lines.Line2D at 0x7fa56c897910>]"
            ]
          },
          "metadata": {
            "tags": []
          },
          "execution_count": 29
        },
        {
          "output_type": "display_data",
          "data": {
            "image/png": "[encoded data removed]",
            "text/plain": [
              "<Figure size 432x288 with 1 Axes>"
            ]
          },
          "metadata": {
            "tags": [],
            "needs_background": "light"
          }
        }
      ]
    }
  ]
}