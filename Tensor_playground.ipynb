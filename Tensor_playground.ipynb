{
  "nbformat": 4,
  "nbformat_minor": 0,
  "metadata": {
    "colab": {
      "name": "Tensor playground.ipynb",
      "provenance": []
    },
    "kernelspec": {
      "name": "python3",
      "display_name": "Python 3"
    },
    "language_info": {
      "name": "python"
    }
  },
  "cells": [
    {
      "cell_type": "markdown",
      "metadata": {
        "id": "M9LNDRnvcPiQ"
      },
      "source": [
        "# Tensor playground\n",
        "\n",
        "## my first Tensor\n"
      ]
    },
    {
      "cell_type": "code",
      "metadata": {
        "id": "IBu5TnGgmqXJ"
      },
      "source": [
        "import tensorflow as tf"
      ],
      "execution_count": 1,
      "outputs": []
    },
    {
      "cell_type": "code",
      "metadata": {
        "id": "1NigUkR2mwUo"
      },
      "source": [
        "tf.compat.v1.disable_eager_execution()\n",
        "welcome_message = tf.constant('welcome for first tensor')\n",
        "sess = tf.compat.v1.Session()\n"
      ],
      "execution_count": 2,
      "outputs": []
    },
    {
      "cell_type": "code",
      "metadata": {
        "colab": {
          "base_uri": "https://localhost:8080/"
        },
        "id": "OIDs-joCoHiO",
        "outputId": "2bd6c310-28e7-44a4-b68a-07424125d674"
      },
      "source": [
        "out=sess.run(welcome_message)\n",
        "print(out)"
      ],
      "execution_count": 3,
      "outputs": [
        {
          "output_type": "stream",
          "text": [
            "b'welcome for first tensor'\n"
          ],
          "name": "stdout"
        }
      ]
    }
  ]
}